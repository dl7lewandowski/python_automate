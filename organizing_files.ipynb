{
 "cells": [
  {
   "cell_type": "markdown",
   "id": "2719b186",
   "metadata": {},
   "source": [
    "shutil - shell utilities\\\n",
    "shutil module has functions to let you copy, move, rename, delete files in your python programs."
   ]
  },
  {
   "cell_type": "code",
   "execution_count": 1,
   "id": "d8dc034e",
   "metadata": {},
   "outputs": [],
   "source": [
    "import shutil, os\n",
    "from pathlib import Path\n",
    "import zipfile\n",
    "import shutil, re"
   ]
  },
  {
   "cell_type": "markdown",
   "id": "96320c9c",
   "metadata": {},
   "source": [
    "# Copying files and folders"
   ]
  },
  {
   "cell_type": "code",
   "execution_count": 9,
   "id": "28e734a5",
   "metadata": {},
   "outputs": [
    {
     "data": {
      "text/plain": [
       "'/home/dl7/nauka/some_folder/damian.txt'"
      ]
     },
     "execution_count": 9,
     "metadata": {},
     "output_type": "execute_result"
    }
   ],
   "source": [
    "p = Path.home()\n",
    "shutil.copy(p / '/home/dl7/nauka/damian.txt', p / '/home/dl7/nauka/some_folder/')"
   ]
  },
  {
   "cell_type": "code",
   "execution_count": 11,
   "id": "6f5844bb",
   "metadata": {},
   "outputs": [
    {
     "data": {
      "text/plain": [
       "PosixPath('/home/dl7/nauka/abc')"
      ]
     },
     "execution_count": 11,
     "metadata": {},
     "output_type": "execute_result"
    }
   ],
   "source": [
    "p = Path.home()\n",
    "shutil.copytree(p / '/home/dl7/nauka/', p / '/home/dl7/nauka/abc') # kopiuje pliki i tworzy nowy folder z tymi plikami w danym miejscu"
   ]
  },
  {
   "cell_type": "markdown",
   "id": "637ecacd",
   "metadata": {},
   "source": [
    "# Moving and Renaming Files and Folders"
   ]
  },
  {
   "cell_type": "code",
   "execution_count": 14,
   "id": "ffbf8181",
   "metadata": {
    "collapsed": true
   },
   "outputs": [
    {
     "ename": "Error",
     "evalue": "Destination path '/home/dl7/nauka/cba//damian.txt' already exists",
     "output_type": "error",
     "traceback": [
      "\u001b[0;31m---------------------------------------------------------------------------\u001b[0m",
      "\u001b[0;31mError\u001b[0m                                     Traceback (most recent call last)",
      "\u001b[0;32m<ipython-input-14-96c7678d5598>\u001b[0m in \u001b[0;36m<module>\u001b[0;34m\u001b[0m\n\u001b[0;32m----> 1\u001b[0;31m \u001b[0mshutil\u001b[0m\u001b[0;34m.\u001b[0m\u001b[0mmove\u001b[0m\u001b[0;34m(\u001b[0m\u001b[0;34m'/home/dl7/nauka/damian.txt'\u001b[0m\u001b[0;34m,\u001b[0m \u001b[0;34m'/home/dl7/nauka/cba//'\u001b[0m\u001b[0;34m)\u001b[0m \u001b[0;31m# cut and paste from path to destination\u001b[0m\u001b[0;34m\u001b[0m\u001b[0;34m\u001b[0m\u001b[0m\n\u001b[0m",
      "\u001b[0;32m~/anaconda3/lib/python3.8/shutil.py\u001b[0m in \u001b[0;36mmove\u001b[0;34m(src, dst, copy_function)\u001b[0m\n\u001b[1;32m    787\u001b[0m         \u001b[0mreal_dst\u001b[0m \u001b[0;34m=\u001b[0m \u001b[0mos\u001b[0m\u001b[0;34m.\u001b[0m\u001b[0mpath\u001b[0m\u001b[0;34m.\u001b[0m\u001b[0mjoin\u001b[0m\u001b[0;34m(\u001b[0m\u001b[0mdst\u001b[0m\u001b[0;34m,\u001b[0m \u001b[0m_basename\u001b[0m\u001b[0;34m(\u001b[0m\u001b[0msrc\u001b[0m\u001b[0;34m)\u001b[0m\u001b[0;34m)\u001b[0m\u001b[0;34m\u001b[0m\u001b[0;34m\u001b[0m\u001b[0m\n\u001b[1;32m    788\u001b[0m         \u001b[0;32mif\u001b[0m \u001b[0mos\u001b[0m\u001b[0;34m.\u001b[0m\u001b[0mpath\u001b[0m\u001b[0;34m.\u001b[0m\u001b[0mexists\u001b[0m\u001b[0;34m(\u001b[0m\u001b[0mreal_dst\u001b[0m\u001b[0;34m)\u001b[0m\u001b[0;34m:\u001b[0m\u001b[0;34m\u001b[0m\u001b[0;34m\u001b[0m\u001b[0m\n\u001b[0;32m--> 789\u001b[0;31m             \u001b[0;32mraise\u001b[0m \u001b[0mError\u001b[0m\u001b[0;34m(\u001b[0m\u001b[0;34m\"Destination path '%s' already exists\"\u001b[0m \u001b[0;34m%\u001b[0m \u001b[0mreal_dst\u001b[0m\u001b[0;34m)\u001b[0m\u001b[0;34m\u001b[0m\u001b[0;34m\u001b[0m\u001b[0m\n\u001b[0m\u001b[1;32m    790\u001b[0m     \u001b[0;32mtry\u001b[0m\u001b[0;34m:\u001b[0m\u001b[0;34m\u001b[0m\u001b[0;34m\u001b[0m\u001b[0m\n\u001b[1;32m    791\u001b[0m         \u001b[0mos\u001b[0m\u001b[0;34m.\u001b[0m\u001b[0mrename\u001b[0m\u001b[0;34m(\u001b[0m\u001b[0msrc\u001b[0m\u001b[0;34m,\u001b[0m \u001b[0mreal_dst\u001b[0m\u001b[0;34m)\u001b[0m\u001b[0;34m\u001b[0m\u001b[0;34m\u001b[0m\u001b[0m\n",
      "\u001b[0;31mError\u001b[0m: Destination path '/home/dl7/nauka/cba//damian.txt' already exists"
     ]
    }
   ],
   "source": [
    "shutil.move('/home/dl7/nauka/damian.txt', '/home/dl7/nauka/cba//') # cut and paste from path to destination"
   ]
  },
  {
   "cell_type": "code",
   "execution_count": 15,
   "id": "1ac0bcdf",
   "metadata": {},
   "outputs": [
    {
     "data": {
      "text/plain": [
       "'/home/dl7/nauka/abc/new_abc.txt'"
      ]
     },
     "execution_count": 15,
     "metadata": {},
     "output_type": "execute_result"
    }
   ],
   "source": [
    "shutil.move('/home/dl7/nauka/cba/damian.txt', '/home/dl7/nauka/abc/new_abc.txt')"
   ]
  },
  {
   "cell_type": "code",
   "execution_count": 16,
   "id": "4e8dd40e",
   "metadata": {},
   "outputs": [
    {
     "data": {
      "text/plain": [
       "'/home/dl7/nauka/damian'"
      ]
     },
     "execution_count": 16,
     "metadata": {},
     "output_type": "execute_result"
    }
   ],
   "source": [
    "shutil.move('/home/dl7/nauka/abc/damian.txt', '/home/dl7/nauka/damian')"
   ]
  },
  {
   "cell_type": "markdown",
   "id": "c6978246",
   "metadata": {},
   "source": [
    "# Permanently Deleting Files and Folders"
   ]
  },
  {
   "cell_type": "code",
   "execution_count": 35,
   "id": "e606900f",
   "metadata": {},
   "outputs": [
    {
     "name": "stdout",
     "output_type": "stream",
     "text": [
      "/home/dl7/.conda\n",
      "/home/dl7/.pam_environment\n",
      "/home/dl7/.local\n",
      "/home/dl7/.mozilla\n",
      "/home/dl7/.python_history\n",
      "/home/dl7/.thunderbird\n",
      "/home/dl7/.ssh\n",
      "/home/dl7/.keras\n",
      "/home/dl7/.condarc\n",
      "/home/dl7/.bash_logout\n",
      "/home/dl7/.continuum\n",
      "/home/dl7/.sudo_as_admin_successful\n",
      "/home/dl7/.anaconda\n",
      "/home/dl7/.config\n",
      "/home/dl7/.cache\n",
      "/home/dl7/.profile\n",
      "/home/dl7/.nvidia-settings-rc\n",
      "/home/dl7/.gnupg\n",
      "/home/dl7/.pki\n",
      "/home/dl7/.java\n",
      "/home/dl7/.bashrc\n",
      "/home/dl7/.jupyter\n",
      "/home/dl7/.ipython\n",
      "/home/dl7/.bash_history\n"
     ]
    }
   ],
   "source": [
    "for filename in Path.home().glob('.*'):\n",
    "    print(filename)\n",
    "    \n",
    "\n",
    "# os.unlink(filename) "
   ]
  },
  {
   "cell_type": "markdown",
   "id": "37d2994a",
   "metadata": {},
   "source": [
    "# Safe deletes, module send2trash"
   ]
  },
  {
   "cell_type": "code",
   "execution_count": 36,
   "id": "3bb1fc24",
   "metadata": {},
   "outputs": [],
   "source": [
    "import send2trash"
   ]
  },
  {
   "cell_type": "code",
   "execution_count": 37,
   "id": "3cc48be0",
   "metadata": {},
   "outputs": [],
   "source": [
    "file = open('/home/dl7/nauka/text.txt', 'a') # creates the file text.txt\n",
    "file.write('Tekts teskt teskts')\n",
    "file.close()"
   ]
  },
  {
   "cell_type": "code",
   "execution_count": 38,
   "id": "38ddad63",
   "metadata": {},
   "outputs": [],
   "source": [
    "send2trash.send2trash('/home/dl7/nauka/text.txt') # delete file text.txt"
   ]
  },
  {
   "cell_type": "markdown",
   "id": "92cb323c",
   "metadata": {},
   "source": [
    "# Directory Tree"
   ]
  },
  {
   "cell_type": "code",
   "execution_count": 42,
   "id": "5499cc7a",
   "metadata": {},
   "outputs": [
    {
     "name": "stdout",
     "output_type": "stream",
     "text": [
      "current folder: /home/dl7/nauka/\n",
      "subfolder of: /home/dl7/nauka/: some_folder\n",
      "subfolder of: /home/dl7/nauka/: abc\n",
      "subfolder of: /home/dl7/nauka/: cba\n",
      "file inside /home/dl7/nauka/: damian\n",
      "\n",
      "current folder: /home/dl7/nauka/some_folder\n",
      "file inside /home/dl7/nauka/some_folder: damian.txt\n",
      "\n",
      "current folder: /home/dl7/nauka/abc\n",
      "subfolder of: /home/dl7/nauka/abc: some_folder\n",
      "file inside /home/dl7/nauka/abc: new_abc.txt\n",
      "\n",
      "current folder: /home/dl7/nauka/abc/some_folder\n",
      "file inside /home/dl7/nauka/abc/some_folder: damian.txt\n",
      "\n",
      "current folder: /home/dl7/nauka/cba\n",
      "\n"
     ]
    }
   ],
   "source": [
    "for folder_name, subfolders, filenames in os.walk('/home/dl7/nauka/'):\n",
    "    print('current folder: ' + folder_name)\n",
    "    \n",
    "    for subfolder in subfolders:\n",
    "        print('subfolder of: ' + folder_name + ': ' + subfolder)\n",
    "        \n",
    "    for filename in filenames:\n",
    "        print('file inside ' + folder_name + ': ' + filename)\n",
    "    print('')"
   ]
  },
  {
   "cell_type": "markdown",
   "id": "8ac369c8",
   "metadata": {},
   "source": [
    "# Reading ZIP files"
   ]
  },
  {
   "cell_type": "code",
   "execution_count": 43,
   "id": "ec5c0704",
   "metadata": {},
   "outputs": [],
   "source": []
  },
  {
   "cell_type": "code",
   "execution_count": 44,
   "id": "81f44435",
   "metadata": {},
   "outputs": [
    {
     "name": "stdout",
     "output_type": "stream",
     "text": [
      "/home/dl7\n"
     ]
    }
   ],
   "source": [
    "p = Path.home()\n",
    "print(p)"
   ]
  },
  {
   "cell_type": "code",
   "execution_count": 45,
   "id": "9be2d15e",
   "metadata": {},
   "outputs": [
    {
     "name": "stdout",
     "output_type": "stream",
     "text": [
      "['some_folder/', 'some_folder/damian.txt']\n"
     ]
    }
   ],
   "source": [
    "example_zip = zipfile.ZipFile('/home/dl7/nauka/some_folder.zip')\n",
    "print(example_zip.namelist())"
   ]
  },
  {
   "cell_type": "code",
   "execution_count": 50,
   "id": "bc2eacb5",
   "metadata": {},
   "outputs": [
    {
     "data": {
      "text/plain": [
       "0"
      ]
     },
     "execution_count": 50,
     "metadata": {},
     "output_type": "execute_result"
    }
   ],
   "source": [
    "spam_info = example_zip.getinfo('some_folder/')\n",
    "spam_info.file_size"
   ]
  },
  {
   "cell_type": "code",
   "execution_count": 51,
   "id": "e2417588",
   "metadata": {},
   "outputs": [
    {
     "data": {
      "text/plain": [
       "0"
      ]
     },
     "execution_count": 51,
     "metadata": {},
     "output_type": "execute_result"
    }
   ],
   "source": [
    "spam_info.compress_size"
   ]
  },
  {
   "cell_type": "code",
   "execution_count": 52,
   "id": "bdd6ac69",
   "metadata": {},
   "outputs": [],
   "source": [
    "example_zip.close()"
   ]
  },
  {
   "cell_type": "markdown",
   "id": "e0577e2e",
   "metadata": {},
   "source": [
    "# Extracting from ZIP files"
   ]
  },
  {
   "cell_type": "code",
   "execution_count": 54,
   "id": "71538636",
   "metadata": {},
   "outputs": [],
   "source": [
    "example_zip = zipfile.ZipFile('/home/dl7/nauka/some_folder.zip')\n",
    "example_zip.extractall('/home/dl7/nauka/abc/')\n",
    "example_zip.close()"
   ]
  },
  {
   "cell_type": "markdown",
   "id": "96125ae3",
   "metadata": {},
   "source": [
    "# Creating and Adding to ZIP Files"
   ]
  },
  {
   "cell_type": "code",
   "execution_count": 63,
   "id": "c90048b5",
   "metadata": {},
   "outputs": [],
   "source": [
    "new_zip = zipfile.ZipFile('/home/dl7/nauka/cba.zip', 'w') \n",
    "new_zip.write('/home/dl7/nauka/', compress_type=zipfile.ZIP_DEFLATED)\n",
    "new_zip.close()"
   ]
  },
  {
   "cell_type": "markdown",
   "id": "c261f23f",
   "metadata": {},
   "source": [
    "# Project: Rename files US dates to EU style ( from MM-DD-YYYY) to (DD-MM-YYYY)"
   ]
  },
  {
   "cell_type": "code",
   "execution_count": 25,
   "id": "8e173ecb",
   "metadata": {},
   "outputs": [
    {
     "name": "stdout",
     "output_type": "stream",
     "text": [
      "06-05-2002 to 05-06-2002\n",
      "12-20-1924 to 20-12-1924\n",
      "12-31-2020 to 31-12-2020\n"
     ]
    }
   ],
   "source": [
    "# create regex \n",
    "data_pattern = re.compile(r'''\n",
    "^(.*?) # all text before date\n",
    "((0|1)?\\d)- # one or two digits for the month\n",
    "((0|1|2|3)?\\d)- # on or two digits for the day\n",
    "((19|20)\\d\\d) # four digits for the year\n",
    "(.*?)$\n",
    "\n",
    "''', re.VERBOSE) # re.VERBOSE allow whitespace and comments in the regex string to make it more readable\n",
    "\n",
    "for filename in os.listdir('/home/dl7/nauka/'):\n",
    "    mo = data_pattern.search(filename)\n",
    "    if mo == None:\n",
    "        continue\n",
    "    before_part = mo.group(1)\n",
    "    month_part = mo.group(2)\n",
    "    day_part = mo.group(4)\n",
    "    year_part = mo.group(6)\n",
    "    after_part = mo.group(8)\n",
    "\n",
    "    euro_filename = before_part + day_part + '-' + month_part + '-' + year_part + after_part\n",
    "\n",
    "    abs_working_dir = os.path.abspath('/home/dl7/nauka/')\n",
    "\n",
    "    us_filename = os.path.join(abs_working_dir, filename)\n",
    "    eu_filename = os.path.join(abs_working_dir, euro_filename)\n",
    "    print(f'{filename} to {euro_filename}')\n",
    "    \n",
    "    shutil.move(us_filename, eu_filename)\n"
   ]
  },
  {
   "cell_type": "markdown",
   "id": "6c3c534f",
   "metadata": {},
   "source": [
    "# Similar Programs"
   ]
  },
  {
   "cell_type": "markdown",
   "id": "282bffd2",
   "metadata": {},
   "source": [
    "# Add prefix to the start of the filename, such as adding spam_ to rename abc.txt to spam_abc.txt"
   ]
  },
  {
   "cell_type": "code",
   "execution_count": 47,
   "id": "9c5ff87a",
   "metadata": {},
   "outputs": [
    {
     "name": "stdout",
     "output_type": "stream",
     "text": [
      "/home/dl7/nauka/www.txt to /home/dl7/nauka/spam_www.txt\n",
      "/home/dl7/nauka/damian.txt to /home/dl7/nauka/spam_damian.txt\n",
      "/home/dl7/nauka/gry.txt to /home/dl7/nauka/spam_gry.txt\n",
      "/home/dl7/nauka/abc.txt.zip to /home/dl7/nauka/spam_abc.txt\n",
      "/home/dl7/nauka/abc.txt to /home/dl7/nauka/spam_abc.txt\n"
     ]
    }
   ],
   "source": [
    "file_pattern = re.compile(r''' \n",
    "(.*) # all text before .txt\n",
    ". # sign dot\n",
    "(txt) # file .txt\n",
    "''', re.VERBOSE)\n",
    "prefix = 'spam_'\n",
    "for txt in os.listdir('/home/dl7/nauka/'):\n",
    "    mo = file_pattern.search(txt)\n",
    "    if mo == None:\n",
    "        continue\n",
    "    \n",
    "    name = mo.group(1)\n",
    "    end = mo.group(2)\n",
    "    spam_name = prefix + name + '.' + end\n",
    "    \n",
    "    abs_working_dir = os.path.abspath('/home/dl7/nauka/')\n",
    "    \n",
    "    file_name = os.path.join(abs_working_dir, txt)\n",
    "    spam_filename = os.path.join(abs_working_dir, spam_name)\n",
    "    print(f'{file_name} to {spam_filename}')\n",
    "    shutil.move(file_name, spam_filename)\n",
    "    "
   ]
  },
  {
   "cell_type": "markdown",
   "id": "4945996c",
   "metadata": {},
   "source": [
    "# Change filenames with EU dates to US-style dates (DD-MM-YYYY) to (MM-DD-YYYY)"
   ]
  },
  {
   "cell_type": "code",
   "execution_count": 71,
   "id": "fdbc42d2",
   "metadata": {},
   "outputs": [
    {
     "name": "stdout",
     "output_type": "stream",
     "text": [
      "/home/dl7/nauka/05-06-2002 to /home/dl7/nauka/06-05-2002\n",
      "/home/dl7/nauka/20-12-1924 to /home/dl7/nauka/12-20-1924\n",
      "/home/dl7/nauka/31-12-2020 to /home/dl7/nauka/12-31-2020\n"
     ]
    }
   ],
   "source": [
    "data_pattern = re.compile(r'''\n",
    "^(.*?) # anything before date\n",
    "((0|1|2|3)?\\d)- # day \n",
    "((0|1)?\\d)- # month\n",
    "((19|20)\\d\\d) # year\n",
    "(.*?)$\n",
    "''', re.VERBOSE)\n",
    "\n",
    "for filename in os.listdir(r'/home/dl7/nauka/'):\n",
    "\n",
    "    mo = data_pattern.search(filename)\n",
    "\n",
    "    if mo == None:\n",
    "        continue\n",
    "    before_date = mo.group(1)\n",
    "    day = mo.group(2)\n",
    "    month = mo.group(4)\n",
    "    year = mo.group(6)\n",
    "    after_date = mo.group(8)\n",
    "    \n",
    "    us_date = before_date + month + '-' + day + '-' + year + after_date\n",
    "    \n",
    "    abs_working_dir = os.path.abspath('/home/dl7/nauka/')\n",
    "    eu_filename = os.path.join(abs_working_dir, filename)\n",
    "    us_filename = os.path.join(abs_working_dir, us_date)\n",
    "    \n",
    "    # shutil.move(eu_filename, us_filename) \n",
    "    print(f'{eu_filename} to {us_filename}')\n",
    "    \n",
    "        \n"
   ]
  },
  {
   "cell_type": "markdown",
   "id": "26486deb",
   "metadata": {},
   "source": [
    "# Remove the zeros from files such as spam00042.txt"
   ]
  },
  {
   "cell_type": "code",
   "execution_count": 19,
   "id": "8147575e",
   "metadata": {},
   "outputs": [
    {
     "name": "stdout",
     "output_type": "stream",
     "text": [
      "spam52.txt\n",
      "/home/dl7/nauka/spam052.txt to /home/dl7/nauka/spam52.txt\n"
     ]
    }
   ],
   "source": [
    "file_pattern = re.compile(r'''\n",
    "^(.*?)# name\n",
    "(0+) # \n",
    "(\\d+)?\n",
    "(.txt)$\n",
    "''', re.VERBOSE)\n",
    "\n",
    "for file_name in os.listdir('/home/dl7/nauka/'):\n",
    "    mo = file_pattern.search(file_name)\n",
    "    if mo == None:\n",
    "        continue\n",
    "    name = mo.group(1)\n",
    "    number = mo.group(3)\n",
    "    end = mo.group(4)\n",
    "    \n",
    "    new_file_name = name + number + end\n",
    "    \n",
    "    print(new_file_name)\n",
    "    abs_working_dir = os.path.abspath('/home/dl7/nauka/')\n",
    "    \n",
    "    file_name_before = os.path.join(abs_working_dir, file_name)\n",
    "    file_name_after = os.path.join(abs_working_dir, new_file_name)\n",
    "    # shutil.move(file_name_before, file_name_after)\n",
    "    \n",
    "    print(f'{file_name_before} to {file_name_after}')"
   ]
  },
  {
   "cell_type": "code",
   "execution_count": 14,
   "id": "b61e6019",
   "metadata": {},
   "outputs": [
    {
     "name": "stdout",
     "output_type": "stream",
     "text": [
      "42\n"
     ]
    }
   ],
   "source": [
    "mo = file_pattern.search(' gry000042.txt')\n",
    "print(mo.group(3))"
   ]
  },
  {
   "cell_type": "markdown",
   "id": "98a60a62",
   "metadata": {},
   "source": [
    "# PROJECT: Backing Up a Folder into a ZIP File"
   ]
  },
  {
   "cell_type": "code",
   "execution_count": 14,
   "id": "fe3c5e61",
   "metadata": {},
   "outputs": [
    {
     "name": "stdout",
     "output_type": "stream",
     "text": [
      "Creating abc_5.zip\n"
     ]
    }
   ],
   "source": [
    "folder = '/home/dl7/nauka/abc'\n",
    "\n",
    "def backup_to_zip(folder):\n",
    "    \n",
    "    folder = os.path.abspath(folder)\n",
    "    number = 1 \n",
    "    while True:\n",
    "        zip_filename = os.path.basename(folder) + '_' + str(number) + '.zip'\n",
    "        if not os.path.exists(os.path.dirname(folder) + '/' + zip_filename):\n",
    "            break\n",
    "        number = number + 1\n",
    "    \n",
    "    print(f'Creating {zip_filename}')\n",
    "    backup_zip = zipfile.ZipFile((os.path.dirname(folder) + '/' + zip_filename), 'w')\n",
    "    backup_zip.write(os.path.dirname(folder))\n",
    "    backup_zip.close()\n",
    "    \n",
    "backup_to_zip(folder)"
   ]
  },
  {
   "cell_type": "code",
   "execution_count": 84,
   "id": "3b03ac6b",
   "metadata": {},
   "outputs": [
    {
     "name": "stdout",
     "output_type": "stream",
     "text": [
      "Folder to compress: /home/dl7/nauka/ops\n",
      "Folder to compress: /home/dl7/nauka/ops/abc\n",
      "Folder to compress: /home/dl7/nauka/ops/www\n",
      "Done!\n"
     ]
    }
   ],
   "source": [
    "folder = '/home/dl7/nauka/ops'\n",
    "\n",
    "def backup_to_zip(folder):\n",
    "    folder = os.path.abspath(folder)\n",
    "    \n",
    "    number = 1\n",
    "    while True:\n",
    "        zip_filename = os.path.basename(folder) + '_' + str(number) + '.zip'\n",
    "        if not os.path.exists(os.path.dirname(folder) + '/' + zip_filename):\n",
    "            break\n",
    "        number += 1\n",
    "    \n",
    "    backup_zip = zipfile.ZipFile(os.path.dirname(folder) + '/' +zip_filename, 'w')\n",
    "        \n",
    "        \n",
    "    for foldername, subfolders, filenames in os.walk(folder):\n",
    "        print(f'Folder to compress: {foldername}')\n",
    "        backup_zip.write(foldername)\n",
    "        \n",
    "        for filename in filenames:\n",
    "            new_base = os.path.basename(folder) + '_' \n",
    "            if filename.startswith(new_base) and filename.endswith('.zip'):\n",
    "                continue\n",
    "            backup_zip.write(os.path.join(foldername, filename))\n",
    "            \n",
    "    backup_zip.close()\n",
    "    print('Done!')\n",
    "    \n",
    "backup_to_zip(folder)"
   ]
  },
  {
   "cell_type": "code",
   "execution_count": 88,
   "id": "e51ae9ed",
   "metadata": {},
   "outputs": [
    {
     "name": "stdout",
     "output_type": "stream",
     "text": [
      "[]\n"
     ]
    }
   ],
   "source": [
    "for folder, sub, file in os.walk(folder):\n",
    "    print(sub)"
   ]
  },
  {
   "cell_type": "code",
   "execution_count": null,
   "id": "231ef640",
   "metadata": {},
   "outputs": [],
   "source": []
  },
  {
   "cell_type": "code",
   "execution_count": null,
   "id": "d1522c86",
   "metadata": {},
   "outputs": [],
   "source": []
  }
 ],
 "metadata": {
  "kernelspec": {
   "display_name": "Python 3",
   "language": "python",
   "name": "python3"
  },
  "language_info": {
   "codemirror_mode": {
    "name": "ipython",
    "version": 3
   },
   "file_extension": ".py",
   "mimetype": "text/x-python",
   "name": "python",
   "nbconvert_exporter": "python",
   "pygments_lexer": "ipython3",
   "version": "3.8.8"
  }
 },
 "nbformat": 4,
 "nbformat_minor": 5
}
