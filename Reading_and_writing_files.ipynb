{
 "cells": [
  {
   "cell_type": "code",
   "execution_count": 14,
   "id": "230c0c57",
   "metadata": {},
   "outputs": [],
   "source": [
    "from pathlib import Path\n",
    "import os\n",
    "import shelve"
   ]
  },
  {
   "cell_type": "code",
   "execution_count": 2,
   "id": "984696ae",
   "metadata": {},
   "outputs": [
    {
     "data": {
      "text/plain": [
       "PosixPath('spam/bacon/eggs')"
      ]
     },
     "execution_count": 2,
     "metadata": {},
     "output_type": "execute_result"
    }
   ],
   "source": [
    "Path('spam', 'bacon', 'eggs')"
   ]
  },
  {
   "cell_type": "code",
   "execution_count": 3,
   "id": "ca04f835",
   "metadata": {},
   "outputs": [
    {
     "data": {
      "text/plain": [
       "'spam/bacon/eggs'"
      ]
     },
     "execution_count": 3,
     "metadata": {},
     "output_type": "execute_result"
    }
   ],
   "source": [
    "str(Path('spam', 'bacon', 'eggs'))"
   ]
  },
  {
   "cell_type": "code",
   "execution_count": 5,
   "id": "abedc6cb",
   "metadata": {},
   "outputs": [
    {
     "name": "stdout",
     "output_type": "stream",
     "text": [
      "/home/dl7/nauka/accounts.txt\n",
      "/home/dl7/nauka/details.csv\n",
      "/home/dl7/nauka/invite.docx\n"
     ]
    }
   ],
   "source": [
    "my_files = ['accounts.txt', 'details.csv', 'invite.docx']\n",
    "for filename in my_files:\n",
    "    print(Path(r'/home/dl7/nauka/', filename))"
   ]
  },
  {
   "cell_type": "markdown",
   "id": "6282ff42",
   "metadata": {},
   "source": [
    "# Using the / Operator to Join Paths"
   ]
  },
  {
   "cell_type": "code",
   "execution_count": 7,
   "id": "2008155f",
   "metadata": {},
   "outputs": [
    {
     "data": {
      "text/plain": [
       "PosixPath('spam/bacon/eggs')"
      ]
     },
     "execution_count": 7,
     "metadata": {},
     "output_type": "execute_result"
    }
   ],
   "source": [
    "Path('spam') / 'bacon' / 'eggs'"
   ]
  },
  {
   "cell_type": "code",
   "execution_count": 8,
   "id": "ebb37120",
   "metadata": {},
   "outputs": [
    {
     "data": {
      "text/plain": [
       "PosixPath('spam/bacon/eggs')"
      ]
     },
     "execution_count": 8,
     "metadata": {},
     "output_type": "execute_result"
    }
   ],
   "source": [
    "Path('spam') / Path('bacon', 'eggs')"
   ]
  },
  {
   "cell_type": "code",
   "execution_count": 9,
   "id": "b5026167",
   "metadata": {},
   "outputs": [
    {
     "data": {
      "text/plain": [
       "PosixPath('spam/bacon/eggs')"
      ]
     },
     "execution_count": 9,
     "metadata": {},
     "output_type": "execute_result"
    }
   ],
   "source": [
    "Path('spam') / Path('bacon/eggs')"
   ]
  },
  {
   "cell_type": "code",
   "execution_count": 11,
   "id": "8fe722f2",
   "metadata": {},
   "outputs": [
    {
     "data": {
      "text/plain": [
       "'/home/dl7/spam'"
      ]
     },
     "execution_count": 11,
     "metadata": {},
     "output_type": "execute_result"
    }
   ],
   "source": [
    "home_folder = Path('/home/dl7/')\n",
    "sub_folder = Path('spam')\n",
    "str(home_folder / sub_folder)"
   ]
  },
  {
   "cell_type": "markdown",
   "id": "a30daee8",
   "metadata": {},
   "source": [
    "# The current working direcotry "
   ]
  },
  {
   "cell_type": "code",
   "execution_count": 14,
   "id": "858915a7",
   "metadata": {},
   "outputs": [
    {
     "data": {
      "text/plain": [
       "PosixPath('/home/dl7/Documents/python_automate')"
      ]
     },
     "execution_count": 14,
     "metadata": {},
     "output_type": "execute_result"
    }
   ],
   "source": [
    "Path.cwd()"
   ]
  },
  {
   "cell_type": "code",
   "execution_count": 15,
   "id": "06a1c4e4",
   "metadata": {},
   "outputs": [],
   "source": [
    "os.chdir('/home/dl7/nauka/')"
   ]
  },
  {
   "cell_type": "code",
   "execution_count": 16,
   "id": "66490524",
   "metadata": {},
   "outputs": [
    {
     "data": {
      "text/plain": [
       "PosixPath('/home/dl7/nauka')"
      ]
     },
     "execution_count": 16,
     "metadata": {},
     "output_type": "execute_result"
    }
   ],
   "source": [
    "Path.cwd()"
   ]
  },
  {
   "cell_type": "code",
   "execution_count": 18,
   "id": "c5acdeb4",
   "metadata": {},
   "outputs": [],
   "source": [
    "os.chdir('/home/dl7/Documents/python_automate/')"
   ]
  },
  {
   "cell_type": "code",
   "execution_count": 19,
   "id": "1665596c",
   "metadata": {},
   "outputs": [
    {
     "data": {
      "text/plain": [
       "'/home/dl7/Documents/python_automate'"
      ]
     },
     "execution_count": 19,
     "metadata": {},
     "output_type": "execute_result"
    }
   ],
   "source": [
    "os.getcwd()"
   ]
  },
  {
   "cell_type": "markdown",
   "id": "d027021c",
   "metadata": {},
   "source": [
    "# The Home Directory"
   ]
  },
  {
   "cell_type": "code",
   "execution_count": 20,
   "id": "8e98b823",
   "metadata": {},
   "outputs": [
    {
     "data": {
      "text/plain": [
       "PosixPath('/home/dl7')"
      ]
     },
     "execution_count": 20,
     "metadata": {},
     "output_type": "execute_result"
    }
   ],
   "source": [
    "Path.home()"
   ]
  },
  {
   "cell_type": "markdown",
   "id": "8f83c5bc",
   "metadata": {},
   "source": [
    "absolute path - always beigns with the root folder\\\n",
    "relative path - relative to the program's current working directory\\\n",
    "\\(.) 'dot' this directory\\\n",
    "\\(..) 'dot-dot' the parent directory"
   ]
  },
  {
   "cell_type": "markdown",
   "id": "186da808",
   "metadata": {},
   "source": [
    "# Creating New Folders Using the os.makedirs() Fucntion"
   ]
  },
  {
   "cell_type": "code",
   "execution_count": 21,
   "id": "e02da351",
   "metadata": {},
   "outputs": [],
   "source": [
    "os.makedirs('/home/dl7/nauka/delicious/walnut/waffles')"
   ]
  },
  {
   "cell_type": "code",
   "execution_count": 24,
   "id": "2c5ee37a",
   "metadata": {},
   "outputs": [],
   "source": [
    "Path(r'/home/dl7/nauka/spam').mkdir()"
   ]
  },
  {
   "cell_type": "markdown",
   "id": "1d145127",
   "metadata": {},
   "source": [
    "# Handling absolute and relative paths"
   ]
  },
  {
   "cell_type": "code",
   "execution_count": 25,
   "id": "e0b98a41",
   "metadata": {},
   "outputs": [
    {
     "data": {
      "text/plain": [
       "True"
      ]
     },
     "execution_count": 25,
     "metadata": {},
     "output_type": "execute_result"
    }
   ],
   "source": [
    "Path.cwd().is_absolute()"
   ]
  },
  {
   "cell_type": "code",
   "execution_count": 27,
   "id": "44cf338e",
   "metadata": {},
   "outputs": [
    {
     "data": {
      "text/plain": [
       "True"
      ]
     },
     "execution_count": 27,
     "metadata": {},
     "output_type": "execute_result"
    }
   ],
   "source": [
    "Path('spam/bacon/eggs').cwd().is_absolute()"
   ]
  },
  {
   "cell_type": "code",
   "execution_count": 28,
   "id": "aa54b26f",
   "metadata": {},
   "outputs": [
    {
     "data": {
      "text/plain": [
       "PosixPath('my/relative/path')"
      ]
     },
     "execution_count": 28,
     "metadata": {},
     "output_type": "execute_result"
    }
   ],
   "source": [
    "Path('my/relative/path')"
   ]
  },
  {
   "cell_type": "code",
   "execution_count": 29,
   "id": "742ba633",
   "metadata": {},
   "outputs": [
    {
     "data": {
      "text/plain": [
       "PosixPath('/home/dl7/Documents/python_automate/my/relaitve/path')"
      ]
     },
     "execution_count": 29,
     "metadata": {},
     "output_type": "execute_result"
    }
   ],
   "source": [
    "Path.cwd() / Path('my/relaitve/path')"
   ]
  },
  {
   "cell_type": "code",
   "execution_count": 30,
   "id": "7392c751",
   "metadata": {},
   "outputs": [
    {
     "data": {
      "text/plain": [
       "PosixPath('/home/dl7/my/relaitve/path')"
      ]
     },
     "execution_count": 30,
     "metadata": {},
     "output_type": "execute_result"
    }
   ],
   "source": [
    "Path.home() / Path('my/relaitve/path')"
   ]
  },
  {
   "cell_type": "code",
   "execution_count": 31,
   "id": "b98fda83",
   "metadata": {},
   "outputs": [
    {
     "data": {
      "text/plain": [
       "'/home/dl7/Documents/python_automate'"
      ]
     },
     "execution_count": 31,
     "metadata": {},
     "output_type": "execute_result"
    }
   ],
   "source": [
    "os.path.abspath('.')"
   ]
  },
  {
   "cell_type": "code",
   "execution_count": 37,
   "id": "fd815a5c",
   "metadata": {},
   "outputs": [
    {
     "data": {
      "text/plain": [
       "'/home/dl7/Documents/python_automate/abc'"
      ]
     },
     "execution_count": 37,
     "metadata": {},
     "output_type": "execute_result"
    }
   ],
   "source": [
    "os.path.abspath('./abc')"
   ]
  },
  {
   "cell_type": "code",
   "execution_count": 38,
   "id": "6ddb1aed",
   "metadata": {},
   "outputs": [
    {
     "data": {
      "text/plain": [
       "True"
      ]
     },
     "execution_count": 38,
     "metadata": {},
     "output_type": "execute_result"
    }
   ],
   "source": [
    "os.path.isabs(os.path.abspath('.'))"
   ]
  },
  {
   "cell_type": "markdown",
   "id": "8290dc54",
   "metadata": {},
   "source": [
    "# Getting the Parts of a File Path"
   ]
  },
  {
   "cell_type": "code",
   "execution_count": 2,
   "id": "d15d6b38",
   "metadata": {},
   "outputs": [
    {
     "data": {
      "text/plain": [
       "'/'"
      ]
     },
     "execution_count": 2,
     "metadata": {},
     "output_type": "execute_result"
    }
   ],
   "source": [
    "p = Path('/home/dl7/nauka/car.png') \n",
    "p.anchor"
   ]
  },
  {
   "cell_type": "code",
   "execution_count": 3,
   "id": "c31aa94d",
   "metadata": {},
   "outputs": [
    {
     "data": {
      "text/plain": [
       "PosixPath('/home/dl7/nauka')"
      ]
     },
     "execution_count": 3,
     "metadata": {},
     "output_type": "execute_result"
    }
   ],
   "source": [
    "p.parent"
   ]
  },
  {
   "cell_type": "code",
   "execution_count": 4,
   "id": "f0f8b3e9",
   "metadata": {},
   "outputs": [
    {
     "data": {
      "text/plain": [
       "'car.png'"
      ]
     },
     "execution_count": 4,
     "metadata": {},
     "output_type": "execute_result"
    }
   ],
   "source": [
    "p.name"
   ]
  },
  {
   "cell_type": "code",
   "execution_count": 5,
   "id": "6fb1a205",
   "metadata": {},
   "outputs": [
    {
     "data": {
      "text/plain": [
       "'car'"
      ]
     },
     "execution_count": 5,
     "metadata": {},
     "output_type": "execute_result"
    }
   ],
   "source": [
    "p.stem"
   ]
  },
  {
   "cell_type": "code",
   "execution_count": 6,
   "id": "1c2bea00",
   "metadata": {},
   "outputs": [
    {
     "data": {
      "text/plain": [
       "'.png'"
      ]
     },
     "execution_count": 6,
     "metadata": {},
     "output_type": "execute_result"
    }
   ],
   "source": [
    "p.suffix"
   ]
  },
  {
   "cell_type": "code",
   "execution_count": 7,
   "id": "eb9f124e",
   "metadata": {},
   "outputs": [
    {
     "data": {
      "text/plain": [
       "''"
      ]
     },
     "execution_count": 7,
     "metadata": {},
     "output_type": "execute_result"
    }
   ],
   "source": [
    "p.drive"
   ]
  },
  {
   "cell_type": "code",
   "execution_count": 8,
   "id": "e265019a",
   "metadata": {},
   "outputs": [
    {
     "data": {
      "text/plain": [
       "PosixPath('/home/dl7/Documents/python_automate')"
      ]
     },
     "execution_count": 8,
     "metadata": {},
     "output_type": "execute_result"
    }
   ],
   "source": [
    "p.cwd()"
   ]
  },
  {
   "cell_type": "code",
   "execution_count": 9,
   "id": "eba5684a",
   "metadata": {},
   "outputs": [
    {
     "data": {
      "text/plain": [
       "PosixPath('/home/dl7/Documents/python_automate')"
      ]
     },
     "execution_count": 9,
     "metadata": {},
     "output_type": "execute_result"
    }
   ],
   "source": [
    "Path.cwd()"
   ]
  },
  {
   "cell_type": "code",
   "execution_count": 10,
   "id": "03f38f15",
   "metadata": {},
   "outputs": [
    {
     "data": {
      "text/plain": [
       "PosixPath('/home/dl7/Documents')"
      ]
     },
     "execution_count": 10,
     "metadata": {},
     "output_type": "execute_result"
    }
   ],
   "source": [
    "p.cwd().parents[0]"
   ]
  },
  {
   "cell_type": "code",
   "execution_count": 11,
   "id": "a0520b22",
   "metadata": {},
   "outputs": [
    {
     "data": {
      "text/plain": [
       "PosixPath('/home/dl7')"
      ]
     },
     "execution_count": 11,
     "metadata": {},
     "output_type": "execute_result"
    }
   ],
   "source": [
    "p.cwd().parents[1]"
   ]
  },
  {
   "cell_type": "code",
   "execution_count": 12,
   "id": "b152d694",
   "metadata": {},
   "outputs": [
    {
     "data": {
      "text/plain": [
       "PosixPath('/home')"
      ]
     },
     "execution_count": 12,
     "metadata": {},
     "output_type": "execute_result"
    }
   ],
   "source": [
    "p.cwd().parents[2]"
   ]
  },
  {
   "cell_type": "code",
   "execution_count": 13,
   "id": "9e589143",
   "metadata": {},
   "outputs": [
    {
     "data": {
      "text/plain": [
       "PosixPath('/')"
      ]
     },
     "execution_count": 13,
     "metadata": {},
     "output_type": "execute_result"
    }
   ],
   "source": [
    "p.cwd().parents[3]"
   ]
  },
  {
   "cell_type": "code",
   "execution_count": 15,
   "id": "ba7fbdc3",
   "metadata": {},
   "outputs": [
    {
     "data": {
      "text/plain": [
       "'car.png'"
      ]
     },
     "execution_count": 15,
     "metadata": {},
     "output_type": "execute_result"
    }
   ],
   "source": [
    "file_path = '/home/dl7/nauka/car.png'\n",
    "os.path.basename(file_path)"
   ]
  },
  {
   "cell_type": "code",
   "execution_count": 16,
   "id": "5d992eef",
   "metadata": {},
   "outputs": [
    {
     "data": {
      "text/plain": [
       "'/home/dl7/nauka'"
      ]
     },
     "execution_count": 16,
     "metadata": {},
     "output_type": "execute_result"
    }
   ],
   "source": [
    "os.path.dirname(file_path)"
   ]
  },
  {
   "cell_type": "code",
   "execution_count": 19,
   "id": "6dc9b473",
   "metadata": {},
   "outputs": [
    {
     "data": {
      "text/plain": [
       "True"
      ]
     },
     "execution_count": 19,
     "metadata": {},
     "output_type": "execute_result"
    }
   ],
   "source": [
    "os.path.split(file_path) == (os.path.dirname(file_path), os.path.basename(file_path))"
   ]
  },
  {
   "cell_type": "code",
   "execution_count": 20,
   "id": "44cf2e84",
   "metadata": {},
   "outputs": [
    {
     "data": {
      "text/plain": [
       "['', 'home', 'dl7', 'nauka', 'car.png']"
      ]
     },
     "execution_count": 20,
     "metadata": {},
     "output_type": "execute_result"
    }
   ],
   "source": [
    "file_path.split(os.sep)"
   ]
  },
  {
   "cell_type": "code",
   "execution_count": 22,
   "id": "48903067",
   "metadata": {},
   "outputs": [
    {
     "data": {
      "text/plain": [
       "['', 'home', 'dl7', 'nauka']"
      ]
     },
     "execution_count": 22,
     "metadata": {},
     "output_type": "execute_result"
    }
   ],
   "source": [
    "'/home/dl7/nauka'.split(os.sep)"
   ]
  },
  {
   "cell_type": "markdown",
   "id": "d96d6ebe",
   "metadata": {},
   "source": [
    "# Finding File Sizes and Folder Contents"
   ]
  },
  {
   "cell_type": "code",
   "execution_count": 24,
   "id": "8071db69",
   "metadata": {},
   "outputs": [
    {
     "data": {
      "text/plain": [
       "101292"
      ]
     },
     "execution_count": 24,
     "metadata": {},
     "output_type": "execute_result"
    }
   ],
   "source": [
    "p = Path('/home/dl7/nauka/car.png')\n",
    "os.path.getsize(p)"
   ]
  },
  {
   "cell_type": "markdown",
   "id": "fc6d00f0",
   "metadata": {},
   "source": [
    "101292 bytes in size "
   ]
  },
  {
   "cell_type": "code",
   "execution_count": 26,
   "id": "5ef1b067",
   "metadata": {},
   "outputs": [
    {
     "data": {
      "text/plain": [
       "['lambo.jpg',\n",
       " 'car.png',\n",
       " 'females-g345b85309_640.jpg',\n",
       " 'Sand - 73847.mp4',\n",
       " 'cards.png',\n",
       " 'shapes1.jpg',\n",
       " 'shapes.png']"
      ]
     },
     "execution_count": 26,
     "metadata": {},
     "output_type": "execute_result"
    }
   ],
   "source": [
    "os.listdir('/home/dl7/nauka')"
   ]
  },
  {
   "cell_type": "code",
   "execution_count": 30,
   "id": "9d2c9613",
   "metadata": {},
   "outputs": [
    {
     "name": "stdout",
     "output_type": "stream",
     "text": [
      "5534327\n"
     ]
    }
   ],
   "source": [
    "# find the total size of all the files in this directory \n",
    "\n",
    "total_size = 0 \n",
    "for filename in os.listdir('/home/dl7/nauka/'):\n",
    "    total_size = total_size + os.path.getsize(os.path.join('/home/dl7/nauka/', filename))\n",
    "print(total_size) # size in bytes"
   ]
  },
  {
   "cell_type": "markdown",
   "id": "d0d2cf41",
   "metadata": {},
   "source": [
    "# Modifying a List of Files Using Glob Patterns"
   ]
  },
  {
   "cell_type": "code",
   "execution_count": 32,
   "id": "f734c1c5",
   "metadata": {},
   "outputs": [
    {
     "data": {
      "text/plain": [
       "[PosixPath('/home/dl7/nauka/lambo.jpg'),\n",
       " PosixPath('/home/dl7/nauka/car.png'),\n",
       " PosixPath('/home/dl7/nauka/females-g345b85309_640.jpg'),\n",
       " PosixPath('/home/dl7/nauka/Sand - 73847.mp4'),\n",
       " PosixPath('/home/dl7/nauka/cards.png'),\n",
       " PosixPath('/home/dl7/nauka/shapes1.jpg'),\n",
       " PosixPath('/home/dl7/nauka/shapes.png')]"
      ]
     },
     "execution_count": 32,
     "metadata": {},
     "output_type": "execute_result"
    }
   ],
   "source": [
    "p = Path('/home/dl7/nauka/')\n",
    "list(p.glob('*'))"
   ]
  },
  {
   "cell_type": "code",
   "execution_count": 35,
   "id": "1d434ddd",
   "metadata": {},
   "outputs": [
    {
     "data": {
      "text/plain": [
       "[PosixPath('/home/dl7/nauka/car.png'),\n",
       " PosixPath('/home/dl7/nauka/cards.png'),\n",
       " PosixPath('/home/dl7/nauka/shapes.png')]"
      ]
     },
     "execution_count": 35,
     "metadata": {},
     "output_type": "execute_result"
    }
   ],
   "source": [
    "list(p.glob('*.png'))  # lists all png files"
   ]
  },
  {
   "cell_type": "code",
   "execution_count": 43,
   "id": "3743acc5",
   "metadata": {},
   "outputs": [
    {
     "data": {
      "text/plain": [
       "[PosixPath('/home/dl7/nauka/car1.png')]"
      ]
     },
     "execution_count": 43,
     "metadata": {},
     "output_type": "execute_result"
    }
   ],
   "source": [
    "list(p.glob('car?.png')) # exprsession will return car1.png or car2.png, but it will not return car10.png"
   ]
  },
  {
   "cell_type": "code",
   "execution_count": 45,
   "id": "97d5d6b9",
   "metadata": {},
   "outputs": [
    {
     "data": {
      "text/plain": [
       "[PosixPath('/home/dl7/nauka/cards.png'),\n",
       " PosixPath('/home/dl7/nauka/shapes.png'),\n",
       " PosixPath('/home/dl7/nauka/car1.png')]"
      ]
     },
     "execution_count": 45,
     "metadata": {},
     "output_type": "execute_result"
    }
   ],
   "source": [
    "list(p.glob('*.?n?'))"
   ]
  },
  {
   "cell_type": "code",
   "execution_count": 46,
   "id": "8b40b34a",
   "metadata": {},
   "outputs": [
    {
     "name": "stdout",
     "output_type": "stream",
     "text": [
      "/home/dl7/nauka/cards.png\n",
      "/home/dl7/nauka/shapes.png\n",
      "/home/dl7/nauka/car1.png\n"
     ]
    }
   ],
   "source": [
    "p = Path('/home/dl7/nauka/')\n",
    "for text_file_path_obj in p.glob('*.png'):\n",
    "    print(text_file_path_obj) # prints the path obj as a string "
   ]
  },
  {
   "cell_type": "markdown",
   "id": "fdd50ed0",
   "metadata": {},
   "source": [
    "# Checking Path Validity \n",
    "path = '/home/user/file.txt'\\\n",
    "p = Path(path)\n",
    "- Path(path).exists() returns True if the path exists or returns False if it doesn't exist\n",
    "- Path(path).is_file() retrurns True if the path exists and is a file, or retruns False otherwise\n",
    "- p.is_dir() return True if the path exists and is a directory, or retrurns False otherwise"
   ]
  },
  {
   "cell_type": "code",
   "execution_count": 52,
   "id": "bee5fc03",
   "metadata": {},
   "outputs": [
    {
     "data": {
      "text/plain": [
       "True"
      ]
     },
     "execution_count": 52,
     "metadata": {},
     "output_type": "execute_result"
    }
   ],
   "source": [
    "path = '/home/dl7/nauka/car1.png'\n",
    "p = Path(path)\n",
    "p.exists()"
   ]
  },
  {
   "cell_type": "code",
   "execution_count": 53,
   "id": "1ca06b9d",
   "metadata": {},
   "outputs": [
    {
     "data": {
      "text/plain": [
       "True"
      ]
     },
     "execution_count": 53,
     "metadata": {},
     "output_type": "execute_result"
    }
   ],
   "source": [
    "p.is_file()"
   ]
  },
  {
   "cell_type": "code",
   "execution_count": 54,
   "id": "e59ea43c",
   "metadata": {},
   "outputs": [
    {
     "data": {
      "text/plain": [
       "False"
      ]
     },
     "execution_count": 54,
     "metadata": {},
     "output_type": "execute_result"
    }
   ],
   "source": [
    "p.is_dir()"
   ]
  },
  {
   "cell_type": "code",
   "execution_count": 56,
   "id": "9bc3e0c0",
   "metadata": {},
   "outputs": [
    {
     "data": {
      "text/plain": [
       "False"
      ]
     },
     "execution_count": 56,
     "metadata": {},
     "output_type": "execute_result"
    }
   ],
   "source": [
    "d_drive = Path('D:/')\n",
    "d_drive.exists()"
   ]
  },
  {
   "cell_type": "markdown",
   "id": "ae014067",
   "metadata": {},
   "source": [
    "# The File Reading/Writing Process\n",
    "path = '.'\\\n",
    "p = Path(path)\\\n",
    "p.open()\n",
    "\n",
    "- open() return a File object \n",
    "- read() or write() method on the file object\n",
    "- close() close the file by calling the method on the File object"
   ]
  },
  {
   "cell_type": "code",
   "execution_count": 58,
   "id": "8ff36470",
   "metadata": {},
   "outputs": [
    {
     "data": {
      "text/plain": [
       "'Hello, world!'"
      ]
     },
     "execution_count": 58,
     "metadata": {},
     "output_type": "execute_result"
    }
   ],
   "source": [
    "p = Path('/home/dl7/nauka/spam.txt')\n",
    "p.write_text('Hello, world!')\n",
    "p.read_text()"
   ]
  },
  {
   "cell_type": "markdown",
   "id": "fa98ea5e",
   "metadata": {},
   "source": [
    "# Opening Files with the open() Function"
   ]
  },
  {
   "cell_type": "code",
   "execution_count": 67,
   "id": "3fb8e217",
   "metadata": {},
   "outputs": [],
   "source": [
    "hello_file = open(Path.home() / 'nauka' / 'spam.txt')"
   ]
  },
  {
   "cell_type": "markdown",
   "id": "dbb081ec",
   "metadata": {},
   "source": [
    "# Reading the contents of Files"
   ]
  },
  {
   "cell_type": "code",
   "execution_count": 68,
   "id": "32f33743",
   "metadata": {},
   "outputs": [
    {
     "data": {
      "text/plain": [
       "'Hello, world!'"
      ]
     },
     "execution_count": 68,
     "metadata": {},
     "output_type": "execute_result"
    }
   ],
   "source": [
    "hello_content = hello_file.read()\n",
    "hello_content"
   ]
  },
  {
   "cell_type": "code",
   "execution_count": 86,
   "id": "42790709",
   "metadata": {},
   "outputs": [
    {
     "data": {
      "text/plain": [
       "81"
      ]
     },
     "execution_count": 86,
     "metadata": {},
     "output_type": "execute_result"
    }
   ],
   "source": [
    "p = Path('/home/dl7/nauka/sonnet29.txt')\n",
    "p.write_text('When, in disgrace with fortune and mens eyes \\nI all alone beweep my outcast state')\n"
   ]
  },
  {
   "cell_type": "code",
   "execution_count": 87,
   "id": "268fcf71",
   "metadata": {},
   "outputs": [
    {
     "data": {
      "text/plain": [
       "['When, in disgrace with fortune and mens eyes \\n',\n",
       " 'I all alone beweep my outcast state']"
      ]
     },
     "execution_count": 87,
     "metadata": {},
     "output_type": "execute_result"
    }
   ],
   "source": [
    "sonnet_file = open(Path('/home/dl7/nauka/sonnet29.txt'))\n",
    "sonnet_file.readlines()"
   ]
  },
  {
   "cell_type": "markdown",
   "id": "ea530f03",
   "metadata": {},
   "source": [
    "# Writing to Files "
   ]
  },
  {
   "cell_type": "code",
   "execution_count": 12,
   "id": "0ae4256b",
   "metadata": {},
   "outputs": [],
   "source": [
    "bacon_file = open('/home/dl7/nauka/spam.txt', 'w') # 'w' - write mode\n",
    "bacon_file.write('Hello, world!\\n')\n",
    "bacon_file.close()"
   ]
  },
  {
   "cell_type": "code",
   "execution_count": 13,
   "id": "d2c34f73",
   "metadata": {},
   "outputs": [
    {
     "data": {
      "text/plain": [
       "25"
      ]
     },
     "execution_count": 13,
     "metadata": {},
     "output_type": "execute_result"
    }
   ],
   "source": [
    "bacon_file = open('/home/dl7/nauka/spam.txt', 'a') # 'a' - append mode\n",
    "bacon_file.write(\"Bacon is not health food\\n\")"
   ]
  },
  {
   "cell_type": "markdown",
   "id": "ff7676e1",
   "metadata": {},
   "source": [
    "# Saving Variables with the shelve Module\n",
    "\n",
    "shelve module - save data from python programs "
   ]
  },
  {
   "cell_type": "code",
   "execution_count": 15,
   "id": "580dde52",
   "metadata": {},
   "outputs": [],
   "source": [
    "shelf_file = shelve.open('/home/dl7/nauka/mydata')\n",
    "cats = ['abc', 'cab', 'cba']\n",
    "shelf_file['cats'] = cats\n",
    "shelf_file.close()"
   ]
  },
  {
   "cell_type": "code",
   "execution_count": 17,
   "id": "b922acba",
   "metadata": {},
   "outputs": [
    {
     "name": "stdout",
     "output_type": "stream",
     "text": [
      "['abc', 'cab', 'cba']\n"
     ]
    }
   ],
   "source": [
    "shelf_file = shelve.open('/home/dl7/nauka/mydata')\n",
    "print(shelf_file['cats'])\n",
    "shelf_file.close()"
   ]
  },
  {
   "cell_type": "code",
   "execution_count": 19,
   "id": "d435db6c",
   "metadata": {},
   "outputs": [
    {
     "name": "stdout",
     "output_type": "stream",
     "text": [
      "['cats']\n",
      "[['abc', 'cab', 'cba']]\n"
     ]
    }
   ],
   "source": [
    "shelf_file = shelve.open('/home/dl7/nauka/mydata')\n",
    "print(list(shelf_file.keys()))\n",
    "print(list(shelf_file.values()))\n",
    "shelf_file.close()"
   ]
  },
  {
   "cell_type": "code",
   "execution_count": 20,
   "id": "22e87a58",
   "metadata": {},
   "outputs": [],
   "source": [
    "# Saving Variables with the pprint.pformat() Function"
   ]
  },
  {
   "cell_type": "code",
   "execution_count": null,
   "id": "a447ae4f",
   "metadata": {},
   "outputs": [],
   "source": []
  }
 ],
 "metadata": {
  "kernelspec": {
   "display_name": "Python 3",
   "language": "python",
   "name": "python3"
  },
  "language_info": {
   "codemirror_mode": {
    "name": "ipython",
    "version": 3
   },
   "file_extension": ".py",
   "mimetype": "text/x-python",
   "name": "python",
   "nbconvert_exporter": "python",
   "pygments_lexer": "ipython3",
   "version": "3.8.8"
  }
 },
 "nbformat": 4,
 "nbformat_minor": 5
}
