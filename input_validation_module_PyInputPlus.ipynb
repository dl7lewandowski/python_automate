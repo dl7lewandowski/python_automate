{
 "cells": [
  {
   "cell_type": "code",
   "execution_count": 2,
   "id": "34109ec8",
   "metadata": {},
   "outputs": [
    {
     "name": "stdout",
     "output_type": "stream",
     "text": [
      "Enter your age:\n",
      "-1\n",
      "Please enter a postivie number\n",
      "Enter your age:\n",
      "-2\n",
      "Please enter a postivie number\n",
      "Enter your age:\n",
      "damia\n",
      "Please use numeric digits\n",
      "Enter your age:\n",
      "4\n",
      "Your age is 4\n"
     ]
    }
   ],
   "source": [
    "while True:\n",
    "    print('Enter your age:')\n",
    "    age = input()\n",
    "    try:\n",
    "        age = int(age)\n",
    "    except:\n",
    "        print('Please use numeric digits')\n",
    "        continue\n",
    "    if age < 1:\n",
    "        print('Please enter a postivie number')\n",
    "        continue\n",
    "    break\n",
    "print(f'Your age is {age}')\n"
   ]
  },
  {
   "cell_type": "markdown",
   "id": "4e1cf35a",
   "metadata": {},
   "source": [
    "# PyInputPlus\n",
    "\n",
    "This module have a several additional features for input validation "
   ]
  },
  {
   "cell_type": "code",
   "execution_count": 3,
   "id": "e706c5cf",
   "metadata": {},
   "outputs": [],
   "source": [
    "#!pip install pyinputplus\n",
    "import pyinputplus as pyip\n",
    "import random, time\n"
   ]
  },
  {
   "cell_type": "code",
   "execution_count": 10,
   "id": "7105a2ce",
   "metadata": {},
   "outputs": [
    {
     "name": "stdout",
     "output_type": "stream",
     "text": [
      "damian\n",
      "'damian' is not a number.\n",
      "3\n",
      "3\n"
     ]
    }
   ],
   "source": [
    "respose = pyip.inputNum()\n",
    "print(respose)"
   ]
  },
  {
   "cell_type": "code",
   "execution_count": 11,
   "id": "0bf29516",
   "metadata": {},
   "outputs": [
    {
     "name": "stdout",
     "output_type": "stream",
     "text": [
      "Enter a number:damian\n",
      "'damian' is not an integer.\n",
      "Enter a number:3\n",
      "3\n"
     ]
    }
   ],
   "source": [
    "respose = pyip.inputInt(prompt='Enter a number:') \n",
    "print(respose)"
   ]
  },
  {
   "cell_type": "code",
   "execution_count": 12,
   "id": "62afe696",
   "metadata": {},
   "outputs": [
    {
     "name": "stdout",
     "output_type": "stream",
     "text": [
      "Help on function inputAddress in module pyinputplus:\n",
      "\n",
      "inputAddress(prompt='', default=None, blank=False, timeout=None, limit=None, strip=None, allowRegexes=None, blockRegexes=None, applyFunc=None, postValidateApplyFunc=None)\n",
      "\n"
     ]
    }
   ],
   "source": [
    "help(pyip.inputAddress) # function to find out more about each of these functions "
   ]
  },
  {
   "cell_type": "markdown",
   "id": "05fed4c9",
   "metadata": {},
   "source": [
    "# The min, max, graterThan, lessThan - keyword arguments"
   ]
  },
  {
   "cell_type": "code",
   "execution_count": 20,
   "id": "f2688a4c",
   "metadata": {},
   "outputs": [
    {
     "name": "stdout",
     "output_type": "stream",
     "text": [
      "Enter num:6\n",
      "6\n"
     ]
    }
   ],
   "source": [
    "response = pyip.inputNum('Enter num:', min=4) # min value \n",
    "print(response)"
   ]
  },
  {
   "cell_type": "code",
   "execution_count": 19,
   "id": "4c0692b0",
   "metadata": {},
   "outputs": [
    {
     "name": "stdout",
     "output_type": "stream",
     "text": [
      "Enter num:5\n",
      "5\n"
     ]
    }
   ],
   "source": [
    "response = pyip.inputNum('Enter num:', greaterThan=4) # response > 4 \n",
    "print(response)"
   ]
  },
  {
   "cell_type": "code",
   "execution_count": 23,
   "id": "77d2d33e",
   "metadata": {},
   "outputs": [
    {
     "name": "stdout",
     "output_type": "stream",
     "text": [
      "value between 4 and 6: \n",
      "Blank values are not allowed.\n",
      "value between 4 and 6: 5\n",
      "5\n"
     ]
    }
   ],
   "source": [
    "response = pyip.inputNum('value between 4 and 6: ', min=4, lessThan=6)\n",
    "print(response)"
   ]
  },
  {
   "cell_type": "markdown",
   "id": "1f0be7d6",
   "metadata": {},
   "source": [
    "# Blank keyword argument"
   ]
  },
  {
   "cell_type": "code",
   "execution_count": 25,
   "id": "7fc894df",
   "metadata": {},
   "outputs": [
    {
     "name": "stdout",
     "output_type": "stream",
     "text": [
      "Enter num: \n"
     ]
    },
    {
     "data": {
      "text/plain": [
       "''"
      ]
     },
     "execution_count": 25,
     "metadata": {},
     "output_type": "execute_result"
    }
   ],
   "source": [
    "response = pyip.inputNum('Enter num: ', blank=True) # blank values are allowed! \n",
    "response "
   ]
  },
  {
   "cell_type": "markdown",
   "id": "dcf3a03f",
   "metadata": {},
   "source": [
    "# The limit, timeout, default keyword arguments"
   ]
  },
  {
   "cell_type": "code",
   "execution_count": 27,
   "id": "d2d51197",
   "metadata": {},
   "outputs": [
    {
     "name": "stdout",
     "output_type": "stream",
     "text": [
      "5\n",
      "5\n"
     ]
    }
   ],
   "source": [
    "response = pyip.inputNum(limit=2) # in case user fails to enter vaild input, keywords argruments will cause to raise error\n",
    "print(response)"
   ]
  },
  {
   "cell_type": "code",
   "execution_count": 31,
   "id": "739589b0",
   "metadata": {},
   "outputs": [
    {
     "name": "stdout",
     "output_type": "stream",
     "text": [
      "3\n",
      "3\n"
     ]
    }
   ],
   "source": [
    "response = pyip.inputNum(timeout=10) # entered after 10 seconds of waitngs will: error TimeoutException \n",
    "print(response)"
   ]
  },
  {
   "cell_type": "code",
   "execution_count": 34,
   "id": "9ff8e001",
   "metadata": {},
   "outputs": [
    {
     "name": "stdout",
     "output_type": "stream",
     "text": [
      "dam\n",
      "'dam' is not a number.\n",
      "dam\n",
      "'dam' is not a number.\n",
      "N/A\n"
     ]
    }
   ],
   "source": [
    "response = pyip.inputNum(limit=2, default='N/A') # Instead of raising RetryLimitException, function retruns the string 'N/A'\n",
    "print(response)"
   ]
  },
  {
   "cell_type": "markdown",
   "id": "d5820529",
   "metadata": {},
   "source": [
    "# Regexes and block regexes keyword arguments"
   ]
  },
  {
   "cell_type": "code",
   "execution_count": 37,
   "id": "efc55292",
   "metadata": {},
   "outputs": [
    {
     "name": "stdout",
     "output_type": "stream",
     "text": [
      "xii\n",
      "'xii' is not a number.\n",
      "zero\n",
      "zero\n"
     ]
    }
   ],
   "source": [
    "response = pyip.inputNum(allowRegexes=[r'(I|V|X|L|C|D|M)+', r'zero']) # allow regexes \n",
    "print(response)"
   ]
  },
  {
   "cell_type": "code",
   "execution_count": 38,
   "id": "69811fdb",
   "metadata": {},
   "outputs": [
    {
     "name": "stdout",
     "output_type": "stream",
     "text": [
      "2\n",
      "This response is invalid.\n",
      "3\n",
      "3\n"
     ]
    }
   ],
   "source": [
    "response = pyip.inputNum(blockRegexes=[r'[02468]$']) # block regexes: in this case last digit not allow be odd \n",
    "print(response)"
   ]
  },
  {
   "cell_type": "code",
   "execution_count": 39,
   "id": "55442967",
   "metadata": {},
   "outputs": [
    {
     "name": "stdout",
     "output_type": "stream",
     "text": [
      "cat\n",
      "This response is invalid.\n",
      "cate\n",
      "This response is invalid.\n",
      "category\n",
      "category\n"
     ]
    }
   ],
   "source": [
    "# both allowRegexes and blockRegexes argument, allow list overrides the block list\n",
    "response = pyip.inputStr(allowRegexes=[r'caterpillr', 'category'], blockRegexes=[r'cat'])\n",
    "print(response)"
   ]
  },
  {
   "cell_type": "markdown",
   "id": "81537be4",
   "metadata": {},
   "source": [
    "# Passing a Custom Validation Function to inputCustom()"
   ]
  },
  {
   "cell_type": "code",
   "execution_count": 49,
   "id": "28c1317f",
   "metadata": {},
   "outputs": [],
   "source": [
    "def addsUpToTen(numbers):\n",
    "    '''\n",
    "    Numbers digits must be equals ten for example 1235 == True, 1 + 2 + 3 + 5 = 10 \n",
    "    '''\n",
    "    numbersList = list(numbers)\n",
    "    for i, digit in enumerate(numbersList):\n",
    "        numbersList[i] = int(digit)\n",
    "    if sum(numbersList) != 10:\n",
    "        raise Exception('The digits must add up to 10, not %s' %(sum(numbersList)))"
   ]
  },
  {
   "cell_type": "code",
   "execution_count": 50,
   "id": "334c1d46",
   "metadata": {},
   "outputs": [
    {
     "name": "stdout",
     "output_type": "stream",
     "text": [
      "55\n",
      "55\n"
     ]
    }
   ],
   "source": [
    "response = pyip.inputCustom(addsUpToTen) # sum digits must be equls 10\n",
    "print(response)"
   ]
  },
  {
   "cell_type": "markdown",
   "id": "d346acab",
   "metadata": {},
   "source": [
    " - inputCustom() function support: blank, limit, timeout, default, allowRegexs, blockRegexs keyword arguments "
   ]
  },
  {
   "cell_type": "code",
   "execution_count": 51,
   "id": "4a151294",
   "metadata": {},
   "outputs": [
    {
     "name": "stdout",
     "output_type": "stream",
     "text": [
      "Jak zarobic milion pln w minute? \n",
      "nie\n"
     ]
    }
   ],
   "source": [
    "while True:\n",
    "    prompt = 'Jak zarobic milion pln w minute? \\n'\n",
    "    response = pyip.inputYesNo(prompt, yesVal='tak', noVal='nie')\n",
    "    if response == 'nie':\n",
    "        break"
   ]
  },
  {
   "cell_type": "markdown",
   "id": "e5612247",
   "metadata": {},
   "source": [
    "# Multiplication Quiz"
   ]
  },
  {
   "cell_type": "code",
   "execution_count": 52,
   "id": "6f9e38ba",
   "metadata": {},
   "outputs": [
    {
     "name": "stdout",
     "output_type": "stream",
     "text": [
      "#0: 5 x 8 = 40\n",
      "Correct!\n",
      "#1: 1 x 4 = 4\n",
      "Correct!\n",
      "#2: 8 x 9 = 72\n",
      "Correct!\n",
      "#3: 1 x 9 = 9\n",
      "Correct!\n",
      "#4: 1 x 1 = 3\n",
      "This response is invalid.\n",
      "#4: 1 x 1 = 3\n",
      "This response is invalid.\n",
      "#4: 1 x 1 = 3\n",
      "This response is invalid.\n",
      "Out of tries!\n",
      "#5: 8 x 2 = 16\n",
      "Correct!\n",
      "#6: 0 x 3 = 0\n",
      "Correct!\n",
      "#7: 4 x 9 = 36\n",
      "Correct!\n",
      "#8: 1 x 0 = \n",
      "Blank values are not allowed.\n",
      "#8: 1 x 0 = 3\n",
      "This response is invalid.\n",
      "#8: 1 x 0 = 3\n",
      "This response is invalid.\n",
      "Out of tries!\n",
      "#9: 8 x 8 = 3\n",
      "This response is invalid.\n",
      "#9: 8 x 8 = 3\n",
      "This response is invalid.\n",
      "#9: 8 x 8 = 64\n",
      "Correct!\n",
      "score: 8 / 10\n"
     ]
    }
   ],
   "source": [
    "\n",
    "number_of_questions = 10\n",
    "correct_answers = 0\n",
    "\n",
    "for question_number in range(number_of_questions):\n",
    "    num_1 = random.randint(0, 9)\n",
    "    num_2 = random.randint(0, 9)\n",
    "    \n",
    "    prompt = '#%s: %s x %s = ' % (question_number, num_1, num_2)\n",
    "    \n",
    "    try: \n",
    "        pyip.inputStr(prompt, allowRegexes=[r'^%s$' % (num_1 * num_2)],\n",
    "                     blockRegexes=[r'.*', 'Incorrect!'], timeout=9, limit=3)\n",
    "        \n",
    "    except pyip.TimeoutException:\n",
    "        print('Out of time!')\n",
    "    except pyip.RetryLimitException:\n",
    "        print('Out of tries!')\n",
    "    else:\n",
    "        print('Correct!')\n",
    "        correct_answers += 1\n",
    "        \n",
    "    time.sleep(1)\n",
    "    \n",
    "print('score: %s / %s' % (correct_answers, number_of_questions))\n",
    "\n"
   ]
  },
  {
   "cell_type": "markdown",
   "id": "fcc22601",
   "metadata": {},
   "source": [
    "# Sandwich Maker"
   ]
  },
  {
   "cell_type": "code",
   "execution_count": 60,
   "id": "32169845",
   "metadata": {},
   "outputs": [
    {
     "name": "stdout",
     "output_type": "stream",
     "text": [
      "Type bread: \n",
      "* wheat\n",
      "* white\n",
      "* sourdough\n",
      "white\n",
      "Type protein: \n",
      "* chicken\n",
      "* turkey\n",
      "* ham\n",
      "* tofu\n",
      "ham\n",
      "Do you wnat cheess? \n",
      "yes\n",
      "Please select one of the following:\n",
      "* cheddar\n",
      "* Swiss\n",
      "* mozzarella\n",
      "cheddar\n",
      "Do you want mayo? \n",
      "yes\n",
      "How many sandwiches do you want? \n",
      "1\n",
      "Price for all: 40\n"
     ]
    }
   ],
   "source": [
    "cost = 0\n",
    "bread = pyip.inputMenu(['wheat', 'white', 'sourdough'], prompt='Type bread: \\n')\n",
    "cost += 20\n",
    "protein = pyip.inputMenu(['chicken', 'turkey', 'ham', 'tofu'], prompt='Type protein: \\n')\n",
    "cost += 10\n",
    "response = pyip.inputYesNo(prompt='Do you wnat cheess? \\n', yesVal='yes', noVal='no')\n",
    "if response == 'yes':\n",
    "    cheese_type = pyip.inputMenu(['cheddar', 'Swiss', 'mozzarella'])\n",
    "    cost += 5\n",
    "mayo = pyip.inputYesNo(prompt='Do you want mayo? \\n', yesVal='yes', noVal='no')\n",
    "if mayo == 'yes':\n",
    "    cost += 5\n",
    "sandwiches_number = pyip.inputInt(prompt='How many sandwiches do you want? \\n', min=1)\n",
    "\n",
    "print('Price for all: %s' %(sandwiches_number * cost))"
   ]
  },
  {
   "cell_type": "markdown",
   "id": "b363f188",
   "metadata": {},
   "source": [
    "# Own Multiplocation Quiz"
   ]
  },
  {
   "cell_type": "code",
   "execution_count": 25,
   "id": "f497fc0c",
   "metadata": {},
   "outputs": [
    {
     "name": "stdout",
     "output_type": "stream",
     "text": [
      "0 x 2 = 2\n",
      "Incorrect!\n",
      "0 x 2 = 2\n"
     ]
    }
   ],
   "source": [
    "num_1 = random.randint(0, 9)\n",
    "num_2 = random.randint(0, 9)\n",
    "\n",
    "attempt = 3\n",
    "\n",
    "while True:\n",
    "    try:\n",
    "        prompt = '%s x %s = ' % (num_1, num_2)\n",
    "        response = int(input(prompt))\n",
    "        if (num_1 * num_2) == response:\n",
    "            \n",
    "            print('Correct!')\n",
    "            time.sleep(1)\n",
    "        else:\n",
    "            print('Incorrect!')      \n",
    "        break\n",
    "    except:\n",
    "        print('Provide whoole number')\n",
    "    if (num_1 * num_2) == response:\n",
    "        pass\n",
    "    \n",
    "#TODO page 241 pdf ! "
   ]
  },
  {
   "cell_type": "code",
   "execution_count": null,
   "id": "cf9ae6e6",
   "metadata": {},
   "outputs": [],
   "source": []
  },
  {
   "cell_type": "code",
   "execution_count": null,
   "id": "5748e835",
   "metadata": {},
   "outputs": [],
   "source": []
  }
 ],
 "metadata": {
  "kernelspec": {
   "display_name": "Python 3",
   "language": "python",
   "name": "python3"
  },
  "language_info": {
   "codemirror_mode": {
    "name": "ipython",
    "version": 3
   },
   "file_extension": ".py",
   "mimetype": "text/x-python",
   "name": "python",
   "nbconvert_exporter": "python",
   "pygments_lexer": "ipython3",
   "version": "3.8.8"
  }
 },
 "nbformat": 4,
 "nbformat_minor": 5
}
