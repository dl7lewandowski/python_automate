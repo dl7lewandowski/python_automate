{
 "cells": [
  {
   "cell_type": "code",
   "execution_count": 1,
   "id": "aff57e82",
   "metadata": {},
   "outputs": [],
   "source": [
    "import re"
   ]
  },
  {
   "cell_type": "code",
   "execution_count": 2,
   "id": "868582e3",
   "metadata": {},
   "outputs": [
    {
     "name": "stdout",
     "output_type": "stream",
     "text": [
      "412-444-2222\n"
     ]
    }
   ],
   "source": [
    "phone_num_regex = re.compile(r'\\d\\d\\d-\\d\\d\\d-\\d\\d\\d\\d')\n",
    "match_object = phone_num_regex.search('My number is 412-444-2222')\n",
    "print(match_object.group())"
   ]
  },
  {
   "cell_type": "code",
   "execution_count": 3,
   "id": "ffd0f1b7",
   "metadata": {},
   "outputs": [
    {
     "name": "stdout",
     "output_type": "stream",
     "text": [
      "424-242-3333\n",
      "424\n",
      "242-3333\n",
      "424 242-3333\n"
     ]
    }
   ],
   "source": [
    "phone_num_regex = re.compile(r'(\\d\\d\\d)-(\\d\\d\\d-\\d\\d\\d\\d)')\n",
    "match_object = phone_num_regex.search('My number is 424-242-3333')\n",
    "print(match_object.group())\n",
    "print(match_object.group(1))\n",
    "print(match_object.group(2))\n",
    "\n",
    "area_code, main_number = match_object.groups()\n",
    "print(area_code, main_number)"
   ]
  },
  {
   "cell_type": "code",
   "execution_count": 4,
   "id": "d3f80cdc",
   "metadata": {},
   "outputs": [
    {
     "name": "stdout",
     "output_type": "stream",
     "text": [
      "(415)\n",
      "555-4444\n"
     ]
    }
   ],
   "source": [
    "phone_num_regex = re.compile(r'(\\(\\d\\d\\d\\)) (\\d\\d\\d-\\d\\d\\d\\d)')\n",
    "match_object = phone_num_regex.search('My phone number is (415) 555-4444')\n",
    "print(match_object.group(1))\n",
    "print(match_object.group(2))\n"
   ]
  },
  {
   "cell_type": "code",
   "execution_count": 5,
   "id": "626dcbd1",
   "metadata": {},
   "outputs": [
    {
     "name": "stdout",
     "output_type": "stream",
     "text": [
      "Batman\n",
      "Tina Fey\n"
     ]
    }
   ],
   "source": [
    "hero_regex = re.compile(r'Batman|Tina Fey') \n",
    "match_object = hero_regex.search('Batman and Tina Fey') \n",
    "print(match_object.group())\n",
    "\n",
    "\n",
    "hero_regex = re.compile(r'Batman|Tina Fey')\n",
    "match_object = hero_regex.search('Tina Fey and Batman')\n",
    "print(match_object.group())"
   ]
  },
  {
   "cell_type": "code",
   "execution_count": 6,
   "id": "c6a68abd",
   "metadata": {},
   "outputs": [
    {
     "name": "stdout",
     "output_type": "stream",
     "text": [
      "('mobile',)\n",
      "mobile\n"
     ]
    }
   ],
   "source": [
    "bat_regex = re.compile(r'Bat(man|mobile|copter|bat)')\n",
    "match_object = bat_regex.search('Batmobile and Batcopter lost a force')\n",
    "print(match_object.groups())\n",
    "print(match_object.group(1))\n"
   ]
  },
  {
   "cell_type": "code",
   "execution_count": 7,
   "id": "7835e595",
   "metadata": {},
   "outputs": [
    {
     "name": "stdout",
     "output_type": "stream",
     "text": [
      "Batwoman\n"
     ]
    }
   ],
   "source": [
    "bat_regex = re.compile(r'Bat(wo)?man') # opcionalne wystpienie przedrostka wo\n",
    "match_object = bat_regex.search('The Adventures of Batwoman')\n",
    "print(match_object.group())"
   ]
  },
  {
   "cell_type": "code",
   "execution_count": 9,
   "id": "eba01259",
   "metadata": {},
   "outputs": [
    {
     "name": "stdout",
     "output_type": "stream",
     "text": [
      "511-555-5553\n",
      "555-5553\n"
     ]
    }
   ],
   "source": [
    "phone_regex = re.compile(r'(\\d\\d\\d-)?\\d\\d\\d-\\d\\d\\d\\d')\n",
    "match_object = phone_regex.search('My number is 511-555-5553')\n",
    "print(match_object.group())\n",
    "match_object = phone_regex.search('My number is 555-5553')\n",
    "print(match_object.group())"
   ]
  },
  {
   "cell_type": "code",
   "execution_count": 10,
   "id": "f30692af",
   "metadata": {},
   "outputs": [
    {
     "name": "stdout",
     "output_type": "stream",
     "text": [
      "Batman\n"
     ]
    }
   ],
   "source": [
    "bat_regex = re.compile(r'Bat(wo)*man')\n",
    "match_object = bat_regex.search('The Adventures of Batman')\n",
    "print(match_object.group())"
   ]
  },
  {
   "cell_type": "code",
   "execution_count": 11,
   "id": "6ed98239",
   "metadata": {},
   "outputs": [
    {
     "name": "stdout",
     "output_type": "stream",
     "text": [
      "Batwoman\n"
     ]
    }
   ],
   "source": [
    "match_object = bat_regex.search('The Adventures of Batwoman')\n",
    "print(match_object.group())"
   ]
  },
  {
   "cell_type": "code",
   "execution_count": 12,
   "id": "aec0716f",
   "metadata": {},
   "outputs": [
    {
     "name": "stdout",
     "output_type": "stream",
     "text": [
      "Batwowowowowoman\n"
     ]
    }
   ],
   "source": [
    "match_object = bat_regex.search('The Adventures of Batwowowowowoman')\n",
    "print(match_object.group())\n"
   ]
  },
  {
   "cell_type": "code",
   "execution_count": 13,
   "id": "3df5d369",
   "metadata": {},
   "outputs": [
    {
     "name": "stdout",
     "output_type": "stream",
     "text": [
      "Batwoman\n"
     ]
    }
   ],
   "source": [
    "bat_regex = re.compile(r'Bat(wo)+man')\n",
    "match_object = bat_regex.search('The Adventures of Batwoman')\n",
    "print(match_object.group())"
   ]
  },
  {
   "cell_type": "code",
   "execution_count": 15,
   "id": "99057631",
   "metadata": {},
   "outputs": [
    {
     "name": "stdout",
     "output_type": "stream",
     "text": [
      "Batwowowoman\n"
     ]
    }
   ],
   "source": [
    "match_object = bat_regex.search('The Adventures of Batwowowoman')\n",
    "print(match_object.group())"
   ]
  },
  {
   "cell_type": "code",
   "execution_count": 17,
   "id": "3553b0cf",
   "metadata": {},
   "outputs": [
    {
     "data": {
      "text/plain": [
       "True"
      ]
     },
     "execution_count": 17,
     "metadata": {},
     "output_type": "execute_result"
    }
   ],
   "source": [
    "match_object = bat_regex.search('The Adventures of Batman')\n",
    "match_object == None"
   ]
  },
  {
   "cell_type": "code",
   "execution_count": 18,
   "id": "d4a64319",
   "metadata": {},
   "outputs": [
    {
     "name": "stdout",
     "output_type": "stream",
     "text": [
      "HaHaHa\n"
     ]
    }
   ],
   "source": [
    "ha_regex = re.compile(r'(Ha){3}')\n",
    "match_object = ha_regex.search('HaHaHa')\n",
    "print(match_object.group())"
   ]
  },
  {
   "cell_type": "code",
   "execution_count": 19,
   "id": "eb7f6b4f",
   "metadata": {},
   "outputs": [
    {
     "data": {
      "text/plain": [
       "True"
      ]
     },
     "execution_count": 19,
     "metadata": {},
     "output_type": "execute_result"
    }
   ],
   "source": [
    "match_object = ha_regex.search('Ha')\n",
    "match_object == None"
   ]
  },
  {
   "cell_type": "markdown",
   "id": "cecb7430",
   "metadata": {},
   "source": [
    "# greedy on nongreedy matching"
   ]
  },
  {
   "cell_type": "code",
   "execution_count": 20,
   "id": "a8574279",
   "metadata": {},
   "outputs": [
    {
     "name": "stdout",
     "output_type": "stream",
     "text": [
      "HaHaHaHaHa\n"
     ]
    }
   ],
   "source": [
    "greedy_ha_regex = re.compile(r'(Ha){3,5}')\n",
    "match_object = greedy_ha_regex.search('HaHaHaHaHa')\n",
    "print(match_object.group())"
   ]
  },
  {
   "cell_type": "code",
   "execution_count": 21,
   "id": "d1ba5c23",
   "metadata": {},
   "outputs": [
    {
     "name": "stdout",
     "output_type": "stream",
     "text": [
      "HaHaHa\n"
     ]
    }
   ],
   "source": [
    "nongreedy_ha_regex = re.compile(r'(Ha){3,5}?')\n",
    "match_object = nongreedy_ha_regex.search('HaHaHaHaHa')\n",
    "print(match_object.group())"
   ]
  },
  {
   "cell_type": "markdown",
   "id": "2973fb64",
   "metadata": {},
   "source": [
    "# finalall() method\n",
    "finalall() method return list of strings, each string in the list is a piece of the searched text that matched the regural expression"
   ]
  },
  {
   "cell_type": "code",
   "execution_count": 22,
   "id": "6fcccc49",
   "metadata": {},
   "outputs": [
    {
     "name": "stdout",
     "output_type": "stream",
     "text": [
      "555-555-5555\n"
     ]
    }
   ],
   "source": [
    "phone_num_regex = re.compile(r'\\d\\d\\d-\\d\\d\\d-\\d\\d\\d\\d')\n",
    "match_object = phone_num_regex.search('Cell: 555-555-5555 or 222-222-2222')\n",
    "print(match_object.group()) "
   ]
  },
  {
   "cell_type": "code",
   "execution_count": 23,
   "id": "a6db0fbc",
   "metadata": {},
   "outputs": [
    {
     "name": "stdout",
     "output_type": "stream",
     "text": [
      "['555-555-5555', '222-222-2222']\n"
     ]
    }
   ],
   "source": [
    "phone_num_regex = re.compile(r'\\d\\d\\d-\\d\\d\\d-\\d\\d\\d\\d')\n",
    "match_object = phone_num_regex.findall('Cell: 555-555-5555 or 222-222-2222')\n",
    "print(match_object)"
   ]
  },
  {
   "cell_type": "markdown",
   "id": "6119b56e",
   "metadata": {},
   "source": [
    "If there are groups in the regural expression, methon findall() will return a list of tuples"
   ]
  },
  {
   "cell_type": "code",
   "execution_count": 27,
   "id": "a2fdca18",
   "metadata": {},
   "outputs": [
    {
     "name": "stdout",
     "output_type": "stream",
     "text": [
      "[('222', '222', '2222'), ('555', '555', '5555')]\n"
     ]
    }
   ],
   "source": [
    "phone_num_regex = re.compile(r'(\\d\\d\\d)-(\\d\\d\\d)-(\\d\\d\\d\\d)')\n",
    "match_object = phone_num_regex.findall('Cell: 222-222-2222 and 555-555-5555')\n",
    "print(match_object) "
   ]
  },
  {
   "cell_type": "markdown",
   "id": "3cf2fb9c",
   "metadata": {},
   "source": [
    "# Cheat sheet\n",
    "\\d - any numeric digit from 0 to 9\\\n",
    "\\D - any character that is not a numeric digit from 0 to 9\\\n",
    "\\w - any letter, numeric digit, or underscore character\\\n",
    "\\W - any character that is not a letter, numeric digit or underscore character\\\n",
    "\\s - any space, tab, or newline character\\\n",
    "\\S - any character that is not a space, tab ir newline \n"
   ]
  },
  {
   "cell_type": "code",
   "execution_count": 28,
   "id": "91e84160",
   "metadata": {},
   "outputs": [
    {
     "data": {
      "text/plain": [
       "['12 drummers',\n",
       " '11 pipers',\n",
       " '10 lords',\n",
       " '9 ladies',\n",
       " '8 maids',\n",
       " '7 swans',\n",
       " '5 rings',\n",
       " '4 birds',\n",
       " '3 hens']"
      ]
     },
     "execution_count": 28,
     "metadata": {},
     "output_type": "execute_result"
    }
   ],
   "source": [
    "xmax_regex = re.compile(r'\\d+\\s\\w+')\n",
    "xmax_regex.findall('12 drummers, 11 pipers, 10 lords, 9 ladies, 8 maids, 7 swans, 5 rings, 4 birds, 3 hens')"
   ]
  },
  {
   "cell_type": "code",
   "execution_count": 29,
   "id": "66104619",
   "metadata": {},
   "outputs": [
    {
     "data": {
      "text/plain": [
       "['o', 'o', 'o', 'e', 'a', 'a', 'o', 'o', 'A']"
      ]
     },
     "execution_count": 29,
     "metadata": {},
     "output_type": "execute_result"
    }
   ],
   "source": [
    "vovel_regex = re.compile(r'[aeiouAeiou]') # matching all vovel\n",
    "vovel_regex.findall('RoboCop eats baby food. BABY FOOD.')"
   ]
  },
  {
   "cell_type": "code",
   "execution_count": 30,
   "id": "cb24b732",
   "metadata": {},
   "outputs": [
    {
     "data": {
      "text/plain": [
       "['R',\n",
       " 'b',\n",
       " 'C',\n",
       " 'p',\n",
       " ' ',\n",
       " 't',\n",
       " 's',\n",
       " ' ',\n",
       " 'b',\n",
       " 'b',\n",
       " 'y',\n",
       " ' ',\n",
       " 'f',\n",
       " 'd',\n",
       " '.',\n",
       " ' ',\n",
       " 'B',\n",
       " 'B',\n",
       " 'Y',\n",
       " ' ',\n",
       " 'F',\n",
       " 'O',\n",
       " 'O',\n",
       " 'D',\n",
       " '.']"
      ]
     },
     "execution_count": 30,
     "metadata": {},
     "output_type": "execute_result"
    }
   ],
   "source": [
    "vovel_regex = re.compile(r'[^aeiouAeiou]')# matching ever character that isn't a vovel \n",
    "vovel_regex.findall('RoboCop eats baby food. BABY FOOD.')"
   ]
  },
  {
   "cell_type": "markdown",
   "id": "f5368154",
   "metadata": {},
   "source": [
    "\\^ - carret symbol\\\n",
    "\\$ - dollar symbol\n",
    "\n",
    "\\$ - if put a dollar sign at the end of the regex, string must end with the regex pattern.\\\n",
    "\\^ - if put a carret sign at the start of the regex, string must start with the regex pattern. "
   ]
  },
  {
   "cell_type": "code",
   "execution_count": 33,
   "id": "60b1c85f",
   "metadata": {},
   "outputs": [
    {
     "name": "stdout",
     "output_type": "stream",
     "text": [
      "<re.Match object; span=(0, 5), match='Hello'>\n",
      "True\n"
     ]
    }
   ],
   "source": [
    "begins_with_hello = re.compile(r'^Hello')\n",
    "print(begins_with_hello.search('Hello, world'))\n",
    "print(begins_with_hello.search('He said Hello') == None)\n"
   ]
  },
  {
   "cell_type": "code",
   "execution_count": 34,
   "id": "ccfdc85a",
   "metadata": {},
   "outputs": [
    {
     "data": {
      "text/plain": [
       "<re.Match object; span=(16, 17), match='2'>"
      ]
     },
     "execution_count": 34,
     "metadata": {},
     "output_type": "execute_result"
    }
   ],
   "source": [
    "ends_with_number = re.compile(r'\\d$')\n",
    "ends_with_number.search('Your number is 42')\n"
   ]
  },
  {
   "cell_type": "code",
   "execution_count": 36,
   "id": "f867129e",
   "metadata": {},
   "outputs": [
    {
     "data": {
      "text/plain": [
       "True"
      ]
     },
     "execution_count": 36,
     "metadata": {},
     "output_type": "execute_result"
    }
   ],
   "source": [
    "ends_with_number.search(\"42 is not old\") == None"
   ]
  },
  {
   "cell_type": "code",
   "execution_count": 38,
   "id": "4ea6a919",
   "metadata": {},
   "outputs": [
    {
     "data": {
      "text/plain": [
       "<re.Match object; span=(0, 9), match='123456789'>"
      ]
     },
     "execution_count": 38,
     "metadata": {},
     "output_type": "execute_result"
    }
   ],
   "source": [
    "whole_string_is_num = re.compile(r'^\\d+$')\n",
    "whole_string_is_num.search('123456789')"
   ]
  },
  {
   "cell_type": "code",
   "execution_count": 39,
   "id": "6a923199",
   "metadata": {},
   "outputs": [
    {
     "data": {
      "text/plain": [
       "True"
      ]
     },
     "execution_count": 39,
     "metadata": {},
     "output_type": "execute_result"
    }
   ],
   "source": [
    "whole_string_is_num.search('1234xya3425') == None"
   ]
  },
  {
   "cell_type": "code",
   "execution_count": 40,
   "id": "5b206de5",
   "metadata": {},
   "outputs": [
    {
     "data": {
      "text/plain": [
       "True"
      ]
     },
     "execution_count": 40,
     "metadata": {},
     "output_type": "execute_result"
    }
   ],
   "source": [
    "whole_string_is_num.search('12 3425') == None"
   ]
  },
  {
   "cell_type": "markdown",
   "id": "2d7ef2c3",
   "metadata": {},
   "source": [
    "# Wildcard character . (or dot)"
   ]
  },
  {
   "cell_type": "code",
   "execution_count": 42,
   "id": "8c827c3d",
   "metadata": {},
   "outputs": [
    {
     "data": {
      "text/plain": [
       "['cat', 'hat', 'sat', 'lat', 'mat']"
      ]
     },
     "execution_count": 42,
     "metadata": {},
     "output_type": "execute_result"
    }
   ],
   "source": [
    "at_regex = re.compile(r'.at')\n",
    "at_regex.findall('The cat in the hat sat on the flat mat')"
   ]
  },
  {
   "cell_type": "markdown",
   "id": "778148c8",
   "metadata": {},
   "source": [
    "# Matching with .* (or dot-star) "
   ]
  },
  {
   "cell_type": "code",
   "execution_count": 46,
   "id": "d1c7a1f2",
   "metadata": {},
   "outputs": [
    {
     "name": "stdout",
     "output_type": "stream",
     "text": [
      "First Name: Dam Last Name: Lew\n",
      "Dam\n",
      "Lew\n"
     ]
    }
   ],
   "source": [
    "name_regex = re.compile(r'First Name: (.*) Last Name: (.*)')\n",
    "print(name_regex.search('First Name: Dam Last Name: Lew').group())\n",
    "print(name_regex.search('First Name: Dam Last Name: Lew').group(1))\n",
    "print(name_regex.search('First Name: Dam Last Name: Lew').group(2))"
   ]
  },
  {
   "cell_type": "markdown",
   "id": "cb79cb3c",
   "metadata": {},
   "source": [
    "Diffrence between (?) symbole and without this symbole"
   ]
  },
  {
   "cell_type": "code",
   "execution_count": 50,
   "id": "7eec1e21",
   "metadata": {},
   "outputs": [
    {
     "name": "stdout",
     "output_type": "stream",
     "text": [
      "<To serve man>\n"
     ]
    }
   ],
   "source": [
    "nongreedy_regex = re.compile(r'<.*?>')\n",
    "print(nongreedy_regex.search('<To serve man> for dinner.>').group())"
   ]
  },
  {
   "cell_type": "code",
   "execution_count": 51,
   "id": "cc73af18",
   "metadata": {},
   "outputs": [
    {
     "name": "stdout",
     "output_type": "stream",
     "text": [
      "<To serve man> for dinner.>\n"
     ]
    }
   ],
   "source": [
    "nongreedy_regex = re.compile(r'<.*>')\n",
    "print(nongreedy_regex.search('<To serve man> for dinner.>').group())"
   ]
  },
  {
   "cell_type": "markdown",
   "id": "e55be4c6",
   "metadata": {},
   "source": [
    "# Matching newlines with the dot character "
   ]
  },
  {
   "cell_type": "code",
   "execution_count": 53,
   "id": "09f2c7a0",
   "metadata": {},
   "outputs": [
    {
     "name": "stdout",
     "output_type": "stream",
     "text": [
      "Serve the public trust. \n"
     ]
    }
   ],
   "source": [
    "no_new_line_regex = re.compile('.*')\n",
    "print(no_new_line_regex.search('Serve the public trust. \\nProtect the innocent.\\nUphold the law').group())\n"
   ]
  },
  {
   "cell_type": "code",
   "execution_count": 55,
   "id": "172ad575",
   "metadata": {},
   "outputs": [
    {
     "name": "stdout",
     "output_type": "stream",
     "text": [
      "Serve the public trust. \n",
      "Protect the innocent.\n",
      "Uphold the law\n"
     ]
    }
   ],
   "source": [
    "new_line_regex = re.compile('.*', re.DOTALL)\n",
    "print(new_line_regex.search('Serve the public trust. \\nProtect the innocent.\\nUphold the law').group())\n"
   ]
  },
  {
   "cell_type": "markdown",
   "id": "e59f4afa",
   "metadata": {},
   "source": [
    "# Regex symbols\n",
    "\n",
    "- ? or * or + matches 0 or 1 more of the preceding group\n",
    "- {n}, {n,}, {,m} or {n,m}\n",
    "- ^abc means the string must being with abc\n",
    "- abc\\$ means the string must end with abc\n",
    "- . (or dot) matches any character, expect newline characters\n",
    "- [abc] matches any chracteres between the brackets\n",
    "- [^abc] matches any characteres not betweenn the brackets"
   ]
  },
  {
   "cell_type": "markdown",
   "id": "33737437",
   "metadata": {},
   "source": [
    "# Case-insensitive matching"
   ]
  },
  {
   "cell_type": "code",
   "execution_count": 56,
   "id": "840cb28e",
   "metadata": {},
   "outputs": [
    {
     "name": "stdout",
     "output_type": "stream",
     "text": [
      "RobocoP\n"
     ]
    }
   ],
   "source": [
    "regex1 = re.compile(r'ROboCOp', re.I) # re.I od re.IGNORECASE\n",
    "print(regex1.search('RobocoP is part man').group())\n"
   ]
  },
  {
   "cell_type": "markdown",
   "id": "b8c14a48",
   "metadata": {},
   "source": [
    "# Substituting string - sub() method "
   ]
  },
  {
   "cell_type": "code",
   "execution_count": 57,
   "id": "529bc8a3",
   "metadata": {},
   "outputs": [
    {
     "name": "stdout",
     "output_type": "stream",
     "text": [
      "CENSORED gave the secret documents to CENSORED\n"
     ]
    }
   ],
   "source": [
    "names_regex = re.compile(r'Agent \\w+')\n",
    "print(names_regex.sub('CENSORED', 'Agent Alice gave the secret documents to Agent xyz'))"
   ]
  },
  {
   "cell_type": "code",
   "execution_count": 58,
   "id": "5f0ec9ed",
   "metadata": {},
   "outputs": [
    {
     "name": "stdout",
     "output_type": "stream",
     "text": [
      "A**** told C**** that E**** knew Agenet Bob was a double agent\n"
     ]
    }
   ],
   "source": [
    "agent_names_regex = re.compile(r'Agent (\\w)\\w*')\n",
    "print(agent_names_regex.sub(r'\\1****', 'Agent Alice told Agent Carl that Agent Eve knew Agenet Bob was a double agent'))"
   ]
  },
  {
   "cell_type": "markdown",
   "id": "ac74bb9c",
   "metadata": {},
   "source": [
    "# How to write readable regexe\n",
    "re.VERBOSE - ignore whitespace, comments "
   ]
  },
  {
   "cell_type": "code",
   "execution_count": 74,
   "id": "c5a2c75e",
   "metadata": {},
   "outputs": [
    {
     "name": "stdout",
     "output_type": "stream",
     "text": [
      "<re.Match object; span=(8, 20), match='555-555-5555'>\n"
     ]
    }
   ],
   "source": [
    "phone_regex = re.compile(r'''(\n",
    "(\\d{3}|\\(\\d{3}\\))? # area code\n",
    "(\\s|-|\\.)? # separator\n",
    "\\d{3} # first 3 digits\n",
    "(\\s|-|\\.) # separator\n",
    "\\d{4} # last 4 digits\n",
    ")''', re.VERBOSE) \n",
    "print(phone_regex.search('number: 555-555-5555'))\n",
    "\n"
   ]
  },
  {
   "cell_type": "markdown",
   "id": "47bd96f3",
   "metadata": {},
   "source": [
    "# Combing re.IGNORECASE, re.DOTALL, re.VERBOSE"
   ]
  },
  {
   "cell_type": "code",
   "execution_count": 76,
   "id": "da9839f1",
   "metadata": {},
   "outputs": [],
   "source": [
    "regex = re.compile('abc', re.IGNORECASE | re.DOTALL | re.VERBOSE)"
   ]
  },
  {
   "cell_type": "code",
   "execution_count": null,
   "id": "d156aa9c",
   "metadata": {},
   "outputs": [],
   "source": []
  }
 ],
 "metadata": {
  "kernelspec": {
   "display_name": "Python 3",
   "language": "python",
   "name": "python3"
  },
  "language_info": {
   "codemirror_mode": {
    "name": "ipython",
    "version": 3
   },
   "file_extension": ".py",
   "mimetype": "text/x-python",
   "name": "python",
   "nbconvert_exporter": "python",
   "pygments_lexer": "ipython3",
   "version": "3.8.8"
  }
 },
 "nbformat": 4,
 "nbformat_minor": 5
}
