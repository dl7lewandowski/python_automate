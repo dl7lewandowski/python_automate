{
 "cells": [
  {
   "cell_type": "markdown",
   "id": "12267ea9",
   "metadata": {},
   "source": [
    "# Raising Exceptions \n",
    " - try and except statements, handle with error a not let to crash entrie program "
   ]
  },
  {
   "cell_type": "code",
   "execution_count": 18,
   "id": "45b0b325",
   "metadata": {},
   "outputs": [],
   "source": [
    "import traceback\n",
    "import logging"
   ]
  },
  {
   "cell_type": "code",
   "execution_count": null,
   "id": "1d309330",
   "metadata": {},
   "outputs": [],
   "source": [
    "def box_print(symbole, width, height):\n",
    "    if len(symbole) != 1:\n",
    "        raise Exception('Symbole must be a single character string')\n",
    "    if width <= 2:\n",
    "        raise Exception('Width must be grater than 2')\n",
    "    if height <= 2:\n",
    "        raise Exception('Height muse be a grater than 2')\n",
    "    \n",
    "    print(symbole * width)\n",
    "    for i in range(height - 2):\n",
    "        print(symbole + (' ' * (width - 2)) + symbole)\n",
    "    print(symbole * width)\n",
    "    \n",
    "for sym, w, h in (('*', 4, 4), ('0', 20, 5), ('x', 1, 3), ('ZZ', 3, 3)):\n",
    "    try:\n",
    "        box_print(sym, w, h)\n",
    "    except Exception as err:\n",
    "        print('An exception happened ' + str(err))"
   ]
  },
  {
   "cell_type": "markdown",
   "id": "6fa3a285",
   "metadata": {},
   "source": [
    "# Getting the traceback as a String"
   ]
  },
  {
   "cell_type": "code",
   "execution_count": 2,
   "id": "e739851e",
   "metadata": {},
   "outputs": [
    {
     "ename": "Exception",
     "evalue": "This is the error message",
     "output_type": "error",
     "traceback": [
      "\u001b[0;31m---------------------------------------------------------------------------\u001b[0m",
      "\u001b[0;31mException\u001b[0m                                 Traceback (most recent call last)",
      "\u001b[0;32m<ipython-input-2-84eb13bbca96>\u001b[0m in \u001b[0;36m<module>\u001b[0;34m\u001b[0m\n\u001b[1;32m      4\u001b[0m \u001b[0;32mdef\u001b[0m \u001b[0mbacon\u001b[0m\u001b[0;34m(\u001b[0m\u001b[0;34m)\u001b[0m\u001b[0;34m:\u001b[0m\u001b[0;34m\u001b[0m\u001b[0;34m\u001b[0m\u001b[0m\n\u001b[1;32m      5\u001b[0m     \u001b[0;32mraise\u001b[0m \u001b[0mException\u001b[0m\u001b[0;34m(\u001b[0m\u001b[0;34m'This is the error message'\u001b[0m\u001b[0;34m)\u001b[0m\u001b[0;34m\u001b[0m\u001b[0;34m\u001b[0m\u001b[0m\n\u001b[0;32m----> 6\u001b[0;31m \u001b[0mspam\u001b[0m\u001b[0;34m(\u001b[0m\u001b[0;34m)\u001b[0m\u001b[0;34m\u001b[0m\u001b[0;34m\u001b[0m\u001b[0m\n\u001b[0m",
      "\u001b[0;32m<ipython-input-2-84eb13bbca96>\u001b[0m in \u001b[0;36mspam\u001b[0;34m()\u001b[0m\n\u001b[1;32m      1\u001b[0m \u001b[0;32mdef\u001b[0m \u001b[0mspam\u001b[0m\u001b[0;34m(\u001b[0m\u001b[0;34m)\u001b[0m\u001b[0;34m:\u001b[0m\u001b[0;34m\u001b[0m\u001b[0;34m\u001b[0m\u001b[0m\n\u001b[0;32m----> 2\u001b[0;31m     \u001b[0mbacon\u001b[0m\u001b[0;34m(\u001b[0m\u001b[0;34m)\u001b[0m\u001b[0;34m\u001b[0m\u001b[0;34m\u001b[0m\u001b[0m\n\u001b[0m\u001b[1;32m      3\u001b[0m \u001b[0;34m\u001b[0m\u001b[0m\n\u001b[1;32m      4\u001b[0m \u001b[0;32mdef\u001b[0m \u001b[0mbacon\u001b[0m\u001b[0;34m(\u001b[0m\u001b[0;34m)\u001b[0m\u001b[0;34m:\u001b[0m\u001b[0;34m\u001b[0m\u001b[0;34m\u001b[0m\u001b[0m\n\u001b[1;32m      5\u001b[0m     \u001b[0;32mraise\u001b[0m \u001b[0mException\u001b[0m\u001b[0;34m(\u001b[0m\u001b[0;34m'This is the error message'\u001b[0m\u001b[0;34m)\u001b[0m\u001b[0;34m\u001b[0m\u001b[0;34m\u001b[0m\u001b[0m\n",
      "\u001b[0;32m<ipython-input-2-84eb13bbca96>\u001b[0m in \u001b[0;36mbacon\u001b[0;34m()\u001b[0m\n\u001b[1;32m      3\u001b[0m \u001b[0;34m\u001b[0m\u001b[0m\n\u001b[1;32m      4\u001b[0m \u001b[0;32mdef\u001b[0m \u001b[0mbacon\u001b[0m\u001b[0;34m(\u001b[0m\u001b[0;34m)\u001b[0m\u001b[0;34m:\u001b[0m\u001b[0;34m\u001b[0m\u001b[0;34m\u001b[0m\u001b[0m\n\u001b[0;32m----> 5\u001b[0;31m     \u001b[0;32mraise\u001b[0m \u001b[0mException\u001b[0m\u001b[0;34m(\u001b[0m\u001b[0;34m'This is the error message'\u001b[0m\u001b[0;34m)\u001b[0m\u001b[0;34m\u001b[0m\u001b[0;34m\u001b[0m\u001b[0m\n\u001b[0m\u001b[1;32m      6\u001b[0m \u001b[0mspam\u001b[0m\u001b[0;34m(\u001b[0m\u001b[0;34m)\u001b[0m\u001b[0;34m\u001b[0m\u001b[0;34m\u001b[0m\u001b[0m\n",
      "\u001b[0;31mException\u001b[0m: This is the error message"
     ]
    }
   ],
   "source": [
    "def spam():\n",
    "    bacon()\n",
    "\n",
    "def bacon():\n",
    "    raise Exception('This is the error message')\n",
    "\n",
    "spam()    \n"
   ]
  },
  {
   "cell_type": "code",
   "execution_count": 4,
   "id": "6da09661",
   "metadata": {},
   "outputs": [
    {
     "name": "stdout",
     "output_type": "stream",
     "text": [
      "The traceback info was written to errot_info.txt\n"
     ]
    }
   ],
   "source": [
    "try:\n",
    "    raise Exception('This is the error message')\n",
    "except:\n",
    "    error_file = open('/home/dl7/nauka/error_info.txt', 'w')\n",
    "    error_file.write(traceback.format_exc())\n",
    "    error_file.close()\n",
    "    print('The traceback info was written to errot_info.txt')"
   ]
  },
  {
   "cell_type": "markdown",
   "id": "6bd35d99",
   "metadata": {},
   "source": [
    "# Assertions \n",
    " assert statement says: I assert that the condition holds true, and if not, there is a bug somewhere, so immediaately stop program"
   ]
  },
  {
   "cell_type": "code",
   "execution_count": 9,
   "id": "287f1294",
   "metadata": {},
   "outputs": [
    {
     "name": "stdout",
     "output_type": "stream",
     "text": [
      "[15, 17, 22, 26, 47, 54, 57, 73, 80, 92]\n"
     ]
    }
   ],
   "source": [
    "ages = [26, 57, 92, 54, 22, 15, 17, 80, 47, 73]\n",
    "ages.sort()\n",
    "print(ages)\n",
    "assert ages[0] <= ages[-1] # True "
   ]
  },
  {
   "cell_type": "code",
   "execution_count": 10,
   "id": "91f9a7eb",
   "metadata": {},
   "outputs": [
    {
     "name": "stdout",
     "output_type": "stream",
     "text": [
      "[73, 47, 80, 17, 15, 22, 54, 92, 57, 26]\n"
     ]
    },
    {
     "ename": "AssertionError",
     "evalue": "",
     "output_type": "error",
     "traceback": [
      "\u001b[0;31m---------------------------------------------------------------------------\u001b[0m",
      "\u001b[0;31mAssertionError\u001b[0m                            Traceback (most recent call last)",
      "\u001b[0;32m<ipython-input-10-f32e2220b2bd>\u001b[0m in \u001b[0;36m<module>\u001b[0;34m\u001b[0m\n\u001b[1;32m      2\u001b[0m \u001b[0mages\u001b[0m\u001b[0;34m.\u001b[0m\u001b[0mreverse\u001b[0m\u001b[0;34m(\u001b[0m\u001b[0;34m)\u001b[0m\u001b[0;34m\u001b[0m\u001b[0;34m\u001b[0m\u001b[0m\n\u001b[1;32m      3\u001b[0m \u001b[0mprint\u001b[0m\u001b[0;34m(\u001b[0m\u001b[0mages\u001b[0m\u001b[0;34m)\u001b[0m\u001b[0;34m\u001b[0m\u001b[0;34m\u001b[0m\u001b[0m\n\u001b[0;32m----> 4\u001b[0;31m \u001b[0;32massert\u001b[0m \u001b[0mages\u001b[0m\u001b[0;34m[\u001b[0m\u001b[0;36m0\u001b[0m\u001b[0;34m]\u001b[0m \u001b[0;34m<=\u001b[0m \u001b[0mages\u001b[0m\u001b[0;34m[\u001b[0m\u001b[0;34m-\u001b[0m\u001b[0;36m1\u001b[0m\u001b[0;34m]\u001b[0m\u001b[0;34m\u001b[0m\u001b[0;34m\u001b[0m\u001b[0m\n\u001b[0m",
      "\u001b[0;31mAssertionError\u001b[0m: "
     ]
    }
   ],
   "source": [
    "ages = [26, 57, 92, 54, 22, 15, 17, 80, 47, 73]\n",
    "ages.reverse()\n",
    "print(ages)\n",
    "assert ages[0] <= ages[-1]"
   ]
  },
  {
   "cell_type": "markdown",
   "id": "d3e3a07b",
   "metadata": {},
   "source": [
    "# Using an Assertrion in a Traffic Light Simulation"
   ]
  },
  {
   "cell_type": "code",
   "execution_count": 17,
   "id": "15436715",
   "metadata": {},
   "outputs": [],
   "source": [
    "market_2nd = {'ns': 'green', 'ew': 'red'}\n",
    "mission_16th = {'ns': 'red', 'ew': 'green'}\n",
    "\n",
    "\n",
    "def switch_light(stop_light):\n",
    "    for key in stop_light.keys():\n",
    "        if stop_light[key] == 'green':\n",
    "            stop_light[key] = 'yellow'\n",
    "        elif stop_light[key] == 'yellow':\n",
    "            stop_light[key] = 'red'\n",
    "        elif stop_light[key] == 'red':\n",
    "            stop_light[key] == 'green'\n",
    "# TODO\n"
   ]
  },
  {
   "cell_type": "markdown",
   "id": "2ca9c265",
   "metadata": {},
   "source": [
    "# Logging"
   ]
  },
  {
   "cell_type": "code",
   "execution_count": 19,
   "id": "a8322578",
   "metadata": {},
   "outputs": [],
   "source": [
    "logging.basicConfig(level=logging.DEBUG, format = ' %(asctime)s - %(levelname)s - %(message)s')"
   ]
  },
  {
   "cell_type": "code",
   "execution_count": 23,
   "id": "3dbcb019",
   "metadata": {},
   "outputs": [
    {
     "name": "stderr",
     "output_type": "stream",
     "text": [
      " 2021-12-13 22:47:56,745 - DEBUG - Start of factorial(5%)\n",
      " 2021-12-13 22:47:56,746 - DEBUG - i is 1, total is 1\n",
      " 2021-12-13 22:47:56,748 - DEBUG - i is 2, total is 2\n",
      " 2021-12-13 22:47:56,749 - DEBUG - i is 3, total is 6\n",
      " 2021-12-13 22:47:56,750 - DEBUG - i is 4, total is 24\n",
      " 2021-12-13 22:47:56,751 - DEBUG - i is 5, total is 120\n",
      " 2021-12-13 22:47:56,753 - DEBUG - End of factorial(5%)\n",
      " 2021-12-13 22:47:56,754 - DEBUG - End of program\n"
     ]
    },
    {
     "name": "stdout",
     "output_type": "stream",
     "text": [
      "120\n"
     ]
    }
   ],
   "source": [
    "def factorial(n):\n",
    "    logging.debug('Start of factorial(%s%%)' % (n))\n",
    "    total = 1\n",
    "    for i in range(1, n + 1):\n",
    "        total *= i\n",
    "        logging.debug('i is ' + str(i) + ', total is ' + str(total))\n",
    "    logging.debug('End of factorial(%s%%)' % (n))\n",
    "    return total\n",
    "print(factorial(5))\n",
    "logging.debug('End of program')"
   ]
  },
  {
   "cell_type": "markdown",
   "id": "5124e99f",
   "metadata": {},
   "source": [
    "# Logging Levels "
   ]
  },
  {
   "cell_type": "code",
   "execution_count": 24,
   "id": "aea2986c",
   "metadata": {},
   "outputs": [
    {
     "name": "stderr",
     "output_type": "stream",
     "text": [
      " 2021-12-13 22:52:02,805 - DEBUG - Some debbuging details\n"
     ]
    }
   ],
   "source": [
    "logging.basicConfig(level=logging.DEBUG, format=' %(asctime)s - %(levelname)s - %(message)s')\n",
    "logging.debug('Some debbuging details')\n"
   ]
  },
  {
   "cell_type": "code",
   "execution_count": 25,
   "id": "bf1d42b2",
   "metadata": {},
   "outputs": [
    {
     "name": "stderr",
     "output_type": "stream",
     "text": [
      " 2021-12-13 22:52:25,433 - INFO - The logging module is working\n"
     ]
    }
   ],
   "source": [
    "logging.info('The logging module is working')"
   ]
  },
  {
   "cell_type": "code",
   "execution_count": 26,
   "id": "de8cc7d2",
   "metadata": {},
   "outputs": [
    {
     "name": "stderr",
     "output_type": "stream",
     "text": [
      " 2021-12-13 22:52:46,609 - WARNING - An error message is about to be logged\n"
     ]
    }
   ],
   "source": [
    "logging.warning('An error message is about to be logged')"
   ]
  },
  {
   "cell_type": "code",
   "execution_count": 27,
   "id": "22015917",
   "metadata": {},
   "outputs": [
    {
     "name": "stderr",
     "output_type": "stream",
     "text": [
      " 2021-12-13 22:53:09,286 - ERROR - An error has occured\n"
     ]
    }
   ],
   "source": [
    "logging.error('An error has occured')"
   ]
  },
  {
   "cell_type": "code",
   "execution_count": 28,
   "id": "cb3ee532",
   "metadata": {},
   "outputs": [
    {
     "name": "stderr",
     "output_type": "stream",
     "text": [
      " 2021-12-13 22:53:29,693 - CRITICAL - The program is unable to recover\n"
     ]
    }
   ],
   "source": [
    "logging.critical('The program is unable to recover')"
   ]
  },
  {
   "cell_type": "code",
   "execution_count": null,
   "id": "0cd42b62",
   "metadata": {},
   "outputs": [],
   "source": []
  }
 ],
 "metadata": {
  "kernelspec": {
   "display_name": "Python 3",
   "language": "python",
   "name": "python3"
  },
  "language_info": {
   "codemirror_mode": {
    "name": "ipython",
    "version": 3
   },
   "file_extension": ".py",
   "mimetype": "text/x-python",
   "name": "python",
   "nbconvert_exporter": "python",
   "pygments_lexer": "ipython3",
   "version": "3.8.8"
  }
 },
 "nbformat": 4,
 "nbformat_minor": 5
}
